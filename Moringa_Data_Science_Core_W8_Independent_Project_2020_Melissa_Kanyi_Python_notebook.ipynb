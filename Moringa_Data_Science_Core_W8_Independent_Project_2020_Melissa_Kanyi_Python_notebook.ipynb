{
  "nbformat": 4,
  "nbformat_minor": 0,
  "metadata": {
    "colab": {
      "name": "Moringa_Data_Science_Core_W8_Independent_Project_2020_Melissa_Kanyi_Python_notebook",
      "provenance": [],
      "collapsed_sections": [],
      "toc_visible": true,
      "authorship_tag": "ABX9TyM04Ym4K5CnrVWv/RshqYOo"
    },
    "kernelspec": {
      "name": "python3",
      "display_name": "Python 3"
    },
    "accelerator": "GPU"
  },
  "cells": [
    {
      "cell_type": "markdown",
      "metadata": {
        "id": "jbKRPEdysM5X",
        "colab_type": "text"
      },
      "source": [
        "# 1. Defining the Question"
      ]
    },
    {
      "cell_type": "markdown",
      "metadata": {
        "id": "6WYgww5UZhim",
        "colab_type": "text"
      },
      "source": [
        "Hypothyroidism (underactive thyroid) is a condition in which your thyroid gland doesn't produce enough of certain crucial hormones.\n",
        "\n",
        "Hypothyroidism may not cause noticeable symptoms in the early stages.\n",
        "\n",
        "Over time, untreated hypothyroidism can cause a number of health problems, such as obesity, joint pain, infertility and heart disease.\n",
        "\n",
        "Hence the need for early detection.\n",
        "\n",
        "Hypothyroidism may be due to a number of factors.\n",
        "\n",
        "Risk factors\n",
        "Although anyone can develop hypothyroidism, you're at an increased risk if you:\n",
        "\n",
        "- Are a woman\n",
        "\n",
        "- Are older than 60\n",
        "\n",
        "- Have a family history of thyroid disease\n",
        "\n",
        "- Have an autoimmune disease, such as type 1 diabetes or celiac disease\n",
        "\n",
        "- have been treated with radioactive iodine or anti-thyroid medications\n",
        "\n",
        "- Received radiation to your neck or upper chest\n",
        "\n",
        "- Have had thyroid surgery (partial thyroidectomy)\n",
        "\n",
        "- Have been pregnant or delivered a baby within the past six months"
      ]
    },
    {
      "cell_type": "markdown",
      "metadata": {
        "id": "wTramTBzsM2g",
        "colab_type": "text"
      },
      "source": [
        "## a) Specifying the Question"
      ]
    },
    {
      "cell_type": "markdown",
      "metadata": {
        "id": "M4QlaWG7sMzl",
        "colab_type": "text"
      },
      "source": [
        "We aim to build a model that determines whether or not the patient's symptoms indicate that the patient has hypothyroid."
      ]
    },
    {
      "cell_type": "markdown",
      "metadata": {
        "id": "TwSEs5LBsMwC",
        "colab_type": "text"
      },
      "source": [
        "## b) Defining the Metric for Success"
      ]
    },
    {
      "cell_type": "markdown",
      "metadata": {
        "id": "1NPlnV0msMqJ",
        "colab_type": "text"
      },
      "source": [
        "\n",
        "An accuracy score greater than 90%\n",
        "\n",
        "An F1 score also greater than 80%"
      ]
    },
    {
      "cell_type": "markdown",
      "metadata": {
        "id": "84V_O-5PsMmB",
        "colab_type": "text"
      },
      "source": [
        "## c) Understanding the Context"
      ]
    },
    {
      "cell_type": "markdown",
      "metadata": {
        "id": "5Iwt07q4ZND_",
        "colab_type": "text"
      },
      "source": [
        "Nairobi Hospital conducted a clinical camp to test for hypothyroidism.\n",
        "\n",
        "The data collected focused on Thyroid patients."
      ]
    },
    {
      "cell_type": "markdown",
      "metadata": {
        "id": "TCY_X3-ksMjR",
        "colab_type": "text"
      },
      "source": [
        "## d) Recording the Experimental Design"
      ]
    },
    {
      "cell_type": "markdown",
      "metadata": {
        "id": "me4xv0rosmz3",
        "colab_type": "text"
      },
      "source": [
        "1. Performing EDA\n",
        "2. Feature Engineering\n",
        "3. Multiple Linear Regression\n",
        "4. Quantile regression\n",
        "5. Ridge Regression\n",
        "6. Lasso Regression\n",
        "7. Elastic-Net Regression\n",
        "8. Computing the RMSE\n",
        "9. Plotting residual plots\n",
        "10. Assess their heteroscedasticity using Barlette's test\n",
        "11. Challenging the solution\n",
        "12. Conclusion"
      ]
    },
    {
      "cell_type": "markdown",
      "metadata": {
        "id": "MODOC4T9sstx",
        "colab_type": "text"
      },
      "source": [
        "# Importing necessary Libraries"
      ]
    },
    {
      "cell_type": "code",
      "metadata": {
        "id": "Vz2FHHU2sAjq",
        "colab_type": "code",
        "colab": {}
      },
      "source": [
        "#Load the necessary python libraries\n",
        "import pandas as pd\n",
        "import numpy as np\n",
        "import seaborn as sns\n",
        "import matplotlib.pyplot as plt\n",
        "\n",
        "#import the necessary scikit learn\n",
        "from sklearn.model_selection import train_test_split\n",
        "from sklearn.ensemble import RandomForestClassifier\n",
        "from sklearn.preprocessing import StandardScaler\n",
        "from sklearn.metrics import confusion_matrix\n",
        "from sklearn.ensemble import AdaBoostClassifier\n",
        "from sklearn.tree import DecisionTreeClassifier\n",
        "from sklearn.svm import SVC\n",
        "from sklearn.model_selection import cross_val_score\n",
        "from sklearn.pipeline import make_pipeline\n",
        "from sklearn.metrics import confusion_matrix\n",
        "from sklearn import metrics, preprocessing\n",
        "from sklearn.metrics import classification_report\n",
        "from sklearn.model_selection import RandomizedSearchCV\n",
        "from sklearn.feature_extraction.text import CountVectorizer\n",
        "from sklearn.svm import LinearSVC\n",
        "from sklearn.metrics import accuracy_score"
      ],
      "execution_count": 0,
      "outputs": []
    },
    {
      "cell_type": "markdown",
      "metadata": {
        "id": "-vsE_f8Qs5_S",
        "colab_type": "text"
      },
      "source": [
        "# Reading the Data"
      ]
    },
    {
      "cell_type": "code",
      "metadata": {
        "id": "xzk-g-G_s7Ts",
        "colab_type": "code",
        "outputId": "9e5fcc6c-294c-4273-b0eb-ce28fa0b2e31",
        "colab": {
          "base_uri": "https://localhost:8080/",
          "height": 426
        }
      },
      "source": [
        "# reading our data\n",
        "data = pd.read_csv('hypothyroid.csv')\n",
        "data"
      ],
      "execution_count": 130,
      "outputs": [
        {
          "output_type": "execute_result",
          "data": {
            "text/html": [
              "<div>\n",
              "<style scoped>\n",
              "    .dataframe tbody tr th:only-of-type {\n",
              "        vertical-align: middle;\n",
              "    }\n",
              "\n",
              "    .dataframe tbody tr th {\n",
              "        vertical-align: top;\n",
              "    }\n",
              "\n",
              "    .dataframe thead th {\n",
              "        text-align: right;\n",
              "    }\n",
              "</style>\n",
              "<table border=\"1\" class=\"dataframe\">\n",
              "  <thead>\n",
              "    <tr style=\"text-align: right;\">\n",
              "      <th></th>\n",
              "      <th>status</th>\n",
              "      <th>age</th>\n",
              "      <th>sex</th>\n",
              "      <th>on_thyroxine</th>\n",
              "      <th>query_on_thyroxine</th>\n",
              "      <th>on_antithyroid_medication</th>\n",
              "      <th>thyroid_surgery</th>\n",
              "      <th>query_hypothyroid</th>\n",
              "      <th>query_hyperthyroid</th>\n",
              "      <th>pregnant</th>\n",
              "      <th>sick</th>\n",
              "      <th>tumor</th>\n",
              "      <th>lithium</th>\n",
              "      <th>goitre</th>\n",
              "      <th>TSH_measured</th>\n",
              "      <th>TSH</th>\n",
              "      <th>T3_measured</th>\n",
              "      <th>T3</th>\n",
              "      <th>TT4_measured</th>\n",
              "      <th>TT4</th>\n",
              "      <th>T4U_measured</th>\n",
              "      <th>T4U</th>\n",
              "      <th>FTI_measured</th>\n",
              "      <th>FTI</th>\n",
              "      <th>TBG_measured</th>\n",
              "      <th>TBG</th>\n",
              "    </tr>\n",
              "  </thead>\n",
              "  <tbody>\n",
              "    <tr>\n",
              "      <th>0</th>\n",
              "      <td>hypothyroid</td>\n",
              "      <td>72</td>\n",
              "      <td>M</td>\n",
              "      <td>f</td>\n",
              "      <td>f</td>\n",
              "      <td>f</td>\n",
              "      <td>f</td>\n",
              "      <td>f</td>\n",
              "      <td>f</td>\n",
              "      <td>f</td>\n",
              "      <td>f</td>\n",
              "      <td>f</td>\n",
              "      <td>f</td>\n",
              "      <td>f</td>\n",
              "      <td>y</td>\n",
              "      <td>30</td>\n",
              "      <td>y</td>\n",
              "      <td>0.60</td>\n",
              "      <td>y</td>\n",
              "      <td>15</td>\n",
              "      <td>y</td>\n",
              "      <td>1.48</td>\n",
              "      <td>y</td>\n",
              "      <td>10</td>\n",
              "      <td>n</td>\n",
              "      <td>?</td>\n",
              "    </tr>\n",
              "    <tr>\n",
              "      <th>1</th>\n",
              "      <td>hypothyroid</td>\n",
              "      <td>15</td>\n",
              "      <td>F</td>\n",
              "      <td>t</td>\n",
              "      <td>f</td>\n",
              "      <td>f</td>\n",
              "      <td>f</td>\n",
              "      <td>f</td>\n",
              "      <td>f</td>\n",
              "      <td>f</td>\n",
              "      <td>f</td>\n",
              "      <td>f</td>\n",
              "      <td>f</td>\n",
              "      <td>f</td>\n",
              "      <td>y</td>\n",
              "      <td>145</td>\n",
              "      <td>y</td>\n",
              "      <td>1.70</td>\n",
              "      <td>y</td>\n",
              "      <td>19</td>\n",
              "      <td>y</td>\n",
              "      <td>1.13</td>\n",
              "      <td>y</td>\n",
              "      <td>17</td>\n",
              "      <td>n</td>\n",
              "      <td>?</td>\n",
              "    </tr>\n",
              "    <tr>\n",
              "      <th>2</th>\n",
              "      <td>hypothyroid</td>\n",
              "      <td>24</td>\n",
              "      <td>M</td>\n",
              "      <td>f</td>\n",
              "      <td>f</td>\n",
              "      <td>f</td>\n",
              "      <td>f</td>\n",
              "      <td>f</td>\n",
              "      <td>f</td>\n",
              "      <td>f</td>\n",
              "      <td>f</td>\n",
              "      <td>f</td>\n",
              "      <td>f</td>\n",
              "      <td>f</td>\n",
              "      <td>y</td>\n",
              "      <td>0</td>\n",
              "      <td>y</td>\n",
              "      <td>0.20</td>\n",
              "      <td>y</td>\n",
              "      <td>4</td>\n",
              "      <td>y</td>\n",
              "      <td>1</td>\n",
              "      <td>y</td>\n",
              "      <td>0</td>\n",
              "      <td>n</td>\n",
              "      <td>?</td>\n",
              "    </tr>\n",
              "    <tr>\n",
              "      <th>3</th>\n",
              "      <td>hypothyroid</td>\n",
              "      <td>24</td>\n",
              "      <td>F</td>\n",
              "      <td>f</td>\n",
              "      <td>f</td>\n",
              "      <td>f</td>\n",
              "      <td>f</td>\n",
              "      <td>f</td>\n",
              "      <td>f</td>\n",
              "      <td>f</td>\n",
              "      <td>f</td>\n",
              "      <td>f</td>\n",
              "      <td>f</td>\n",
              "      <td>f</td>\n",
              "      <td>y</td>\n",
              "      <td>430</td>\n",
              "      <td>y</td>\n",
              "      <td>0.40</td>\n",
              "      <td>y</td>\n",
              "      <td>6</td>\n",
              "      <td>y</td>\n",
              "      <td>1.04</td>\n",
              "      <td>y</td>\n",
              "      <td>6</td>\n",
              "      <td>n</td>\n",
              "      <td>?</td>\n",
              "    </tr>\n",
              "    <tr>\n",
              "      <th>4</th>\n",
              "      <td>hypothyroid</td>\n",
              "      <td>77</td>\n",
              "      <td>M</td>\n",
              "      <td>f</td>\n",
              "      <td>f</td>\n",
              "      <td>f</td>\n",
              "      <td>f</td>\n",
              "      <td>f</td>\n",
              "      <td>f</td>\n",
              "      <td>f</td>\n",
              "      <td>f</td>\n",
              "      <td>f</td>\n",
              "      <td>f</td>\n",
              "      <td>f</td>\n",
              "      <td>y</td>\n",
              "      <td>7.30</td>\n",
              "      <td>y</td>\n",
              "      <td>1.20</td>\n",
              "      <td>y</td>\n",
              "      <td>57</td>\n",
              "      <td>y</td>\n",
              "      <td>1.28</td>\n",
              "      <td>y</td>\n",
              "      <td>44</td>\n",
              "      <td>n</td>\n",
              "      <td>?</td>\n",
              "    </tr>\n",
              "    <tr>\n",
              "      <th>...</th>\n",
              "      <td>...</td>\n",
              "      <td>...</td>\n",
              "      <td>...</td>\n",
              "      <td>...</td>\n",
              "      <td>...</td>\n",
              "      <td>...</td>\n",
              "      <td>...</td>\n",
              "      <td>...</td>\n",
              "      <td>...</td>\n",
              "      <td>...</td>\n",
              "      <td>...</td>\n",
              "      <td>...</td>\n",
              "      <td>...</td>\n",
              "      <td>...</td>\n",
              "      <td>...</td>\n",
              "      <td>...</td>\n",
              "      <td>...</td>\n",
              "      <td>...</td>\n",
              "      <td>...</td>\n",
              "      <td>...</td>\n",
              "      <td>...</td>\n",
              "      <td>...</td>\n",
              "      <td>...</td>\n",
              "      <td>...</td>\n",
              "      <td>...</td>\n",
              "      <td>...</td>\n",
              "    </tr>\n",
              "    <tr>\n",
              "      <th>3158</th>\n",
              "      <td>negative</td>\n",
              "      <td>58</td>\n",
              "      <td>F</td>\n",
              "      <td>f</td>\n",
              "      <td>f</td>\n",
              "      <td>f</td>\n",
              "      <td>f</td>\n",
              "      <td>f</td>\n",
              "      <td>f</td>\n",
              "      <td>f</td>\n",
              "      <td>f</td>\n",
              "      <td>f</td>\n",
              "      <td>f</td>\n",
              "      <td>f</td>\n",
              "      <td>y</td>\n",
              "      <td>5.80</td>\n",
              "      <td>y</td>\n",
              "      <td>1.70</td>\n",
              "      <td>y</td>\n",
              "      <td>86</td>\n",
              "      <td>y</td>\n",
              "      <td>0.91</td>\n",
              "      <td>y</td>\n",
              "      <td>95</td>\n",
              "      <td>n</td>\n",
              "      <td>?</td>\n",
              "    </tr>\n",
              "    <tr>\n",
              "      <th>3159</th>\n",
              "      <td>negative</td>\n",
              "      <td>29</td>\n",
              "      <td>F</td>\n",
              "      <td>f</td>\n",
              "      <td>f</td>\n",
              "      <td>f</td>\n",
              "      <td>f</td>\n",
              "      <td>f</td>\n",
              "      <td>f</td>\n",
              "      <td>f</td>\n",
              "      <td>f</td>\n",
              "      <td>f</td>\n",
              "      <td>f</td>\n",
              "      <td>f</td>\n",
              "      <td>y</td>\n",
              "      <td>0.80</td>\n",
              "      <td>y</td>\n",
              "      <td>1.80</td>\n",
              "      <td>y</td>\n",
              "      <td>99</td>\n",
              "      <td>y</td>\n",
              "      <td>1.01</td>\n",
              "      <td>y</td>\n",
              "      <td>98</td>\n",
              "      <td>n</td>\n",
              "      <td>?</td>\n",
              "    </tr>\n",
              "    <tr>\n",
              "      <th>3160</th>\n",
              "      <td>negative</td>\n",
              "      <td>77</td>\n",
              "      <td>M</td>\n",
              "      <td>f</td>\n",
              "      <td>f</td>\n",
              "      <td>f</td>\n",
              "      <td>f</td>\n",
              "      <td>f</td>\n",
              "      <td>f</td>\n",
              "      <td>f</td>\n",
              "      <td>f</td>\n",
              "      <td>f</td>\n",
              "      <td>f</td>\n",
              "      <td>f</td>\n",
              "      <td>y</td>\n",
              "      <td>1.20</td>\n",
              "      <td>y</td>\n",
              "      <td>0.60</td>\n",
              "      <td>y</td>\n",
              "      <td>71</td>\n",
              "      <td>y</td>\n",
              "      <td>0.68</td>\n",
              "      <td>y</td>\n",
              "      <td>104</td>\n",
              "      <td>n</td>\n",
              "      <td>?</td>\n",
              "    </tr>\n",
              "    <tr>\n",
              "      <th>3161</th>\n",
              "      <td>negative</td>\n",
              "      <td>74</td>\n",
              "      <td>F</td>\n",
              "      <td>f</td>\n",
              "      <td>f</td>\n",
              "      <td>f</td>\n",
              "      <td>f</td>\n",
              "      <td>f</td>\n",
              "      <td>f</td>\n",
              "      <td>f</td>\n",
              "      <td>f</td>\n",
              "      <td>f</td>\n",
              "      <td>f</td>\n",
              "      <td>f</td>\n",
              "      <td>y</td>\n",
              "      <td>1.30</td>\n",
              "      <td>y</td>\n",
              "      <td>0.10</td>\n",
              "      <td>y</td>\n",
              "      <td>65</td>\n",
              "      <td>y</td>\n",
              "      <td>0.48</td>\n",
              "      <td>y</td>\n",
              "      <td>137</td>\n",
              "      <td>n</td>\n",
              "      <td>?</td>\n",
              "    </tr>\n",
              "    <tr>\n",
              "      <th>3162</th>\n",
              "      <td>negative</td>\n",
              "      <td>56</td>\n",
              "      <td>F</td>\n",
              "      <td>t</td>\n",
              "      <td>f</td>\n",
              "      <td>f</td>\n",
              "      <td>f</td>\n",
              "      <td>f</td>\n",
              "      <td>f</td>\n",
              "      <td>f</td>\n",
              "      <td>f</td>\n",
              "      <td>f</td>\n",
              "      <td>f</td>\n",
              "      <td>f</td>\n",
              "      <td>y</td>\n",
              "      <td>0</td>\n",
              "      <td>y</td>\n",
              "      <td>1.80</td>\n",
              "      <td>y</td>\n",
              "      <td>139</td>\n",
              "      <td>y</td>\n",
              "      <td>0.97</td>\n",
              "      <td>y</td>\n",
              "      <td>143</td>\n",
              "      <td>n</td>\n",
              "      <td>?</td>\n",
              "    </tr>\n",
              "  </tbody>\n",
              "</table>\n",
              "<p>3163 rows × 26 columns</p>\n",
              "</div>"
            ],
            "text/plain": [
              "           status age sex on_thyroxine  ... FTI_measured  FTI TBG_measured TBG\n",
              "0     hypothyroid  72   M            f  ...            y   10            n   ?\n",
              "1     hypothyroid  15   F            t  ...            y   17            n   ?\n",
              "2     hypothyroid  24   M            f  ...            y    0            n   ?\n",
              "3     hypothyroid  24   F            f  ...            y    6            n   ?\n",
              "4     hypothyroid  77   M            f  ...            y   44            n   ?\n",
              "...           ...  ..  ..          ...  ...          ...  ...          ...  ..\n",
              "3158     negative  58   F            f  ...            y   95            n   ?\n",
              "3159     negative  29   F            f  ...            y   98            n   ?\n",
              "3160     negative  77   M            f  ...            y  104            n   ?\n",
              "3161     negative  74   F            f  ...            y  137            n   ?\n",
              "3162     negative  56   F            t  ...            y  143            n   ?\n",
              "\n",
              "[3163 rows x 26 columns]"
            ]
          },
          "metadata": {
            "tags": []
          },
          "execution_count": 130
        }
      ]
    },
    {
      "cell_type": "markdown",
      "metadata": {
        "id": "i3NZB559tBgB",
        "colab_type": "text"
      },
      "source": [
        "# Checking the Data"
      ]
    },
    {
      "cell_type": "code",
      "metadata": {
        "id": "baq3Jj6ns-wA",
        "colab_type": "code",
        "outputId": "36a3fbfd-69fe-4745-8573-8f60edfb941f",
        "colab": {
          "base_uri": "https://localhost:8080/",
          "height": 217
        }
      },
      "source": [
        "# Previewing the top of our data\n",
        "data.head()"
      ],
      "execution_count": 131,
      "outputs": [
        {
          "output_type": "execute_result",
          "data": {
            "text/html": [
              "<div>\n",
              "<style scoped>\n",
              "    .dataframe tbody tr th:only-of-type {\n",
              "        vertical-align: middle;\n",
              "    }\n",
              "\n",
              "    .dataframe tbody tr th {\n",
              "        vertical-align: top;\n",
              "    }\n",
              "\n",
              "    .dataframe thead th {\n",
              "        text-align: right;\n",
              "    }\n",
              "</style>\n",
              "<table border=\"1\" class=\"dataframe\">\n",
              "  <thead>\n",
              "    <tr style=\"text-align: right;\">\n",
              "      <th></th>\n",
              "      <th>status</th>\n",
              "      <th>age</th>\n",
              "      <th>sex</th>\n",
              "      <th>on_thyroxine</th>\n",
              "      <th>query_on_thyroxine</th>\n",
              "      <th>on_antithyroid_medication</th>\n",
              "      <th>thyroid_surgery</th>\n",
              "      <th>query_hypothyroid</th>\n",
              "      <th>query_hyperthyroid</th>\n",
              "      <th>pregnant</th>\n",
              "      <th>sick</th>\n",
              "      <th>tumor</th>\n",
              "      <th>lithium</th>\n",
              "      <th>goitre</th>\n",
              "      <th>TSH_measured</th>\n",
              "      <th>TSH</th>\n",
              "      <th>T3_measured</th>\n",
              "      <th>T3</th>\n",
              "      <th>TT4_measured</th>\n",
              "      <th>TT4</th>\n",
              "      <th>T4U_measured</th>\n",
              "      <th>T4U</th>\n",
              "      <th>FTI_measured</th>\n",
              "      <th>FTI</th>\n",
              "      <th>TBG_measured</th>\n",
              "      <th>TBG</th>\n",
              "    </tr>\n",
              "  </thead>\n",
              "  <tbody>\n",
              "    <tr>\n",
              "      <th>0</th>\n",
              "      <td>hypothyroid</td>\n",
              "      <td>72</td>\n",
              "      <td>M</td>\n",
              "      <td>f</td>\n",
              "      <td>f</td>\n",
              "      <td>f</td>\n",
              "      <td>f</td>\n",
              "      <td>f</td>\n",
              "      <td>f</td>\n",
              "      <td>f</td>\n",
              "      <td>f</td>\n",
              "      <td>f</td>\n",
              "      <td>f</td>\n",
              "      <td>f</td>\n",
              "      <td>y</td>\n",
              "      <td>30</td>\n",
              "      <td>y</td>\n",
              "      <td>0.60</td>\n",
              "      <td>y</td>\n",
              "      <td>15</td>\n",
              "      <td>y</td>\n",
              "      <td>1.48</td>\n",
              "      <td>y</td>\n",
              "      <td>10</td>\n",
              "      <td>n</td>\n",
              "      <td>?</td>\n",
              "    </tr>\n",
              "    <tr>\n",
              "      <th>1</th>\n",
              "      <td>hypothyroid</td>\n",
              "      <td>15</td>\n",
              "      <td>F</td>\n",
              "      <td>t</td>\n",
              "      <td>f</td>\n",
              "      <td>f</td>\n",
              "      <td>f</td>\n",
              "      <td>f</td>\n",
              "      <td>f</td>\n",
              "      <td>f</td>\n",
              "      <td>f</td>\n",
              "      <td>f</td>\n",
              "      <td>f</td>\n",
              "      <td>f</td>\n",
              "      <td>y</td>\n",
              "      <td>145</td>\n",
              "      <td>y</td>\n",
              "      <td>1.70</td>\n",
              "      <td>y</td>\n",
              "      <td>19</td>\n",
              "      <td>y</td>\n",
              "      <td>1.13</td>\n",
              "      <td>y</td>\n",
              "      <td>17</td>\n",
              "      <td>n</td>\n",
              "      <td>?</td>\n",
              "    </tr>\n",
              "    <tr>\n",
              "      <th>2</th>\n",
              "      <td>hypothyroid</td>\n",
              "      <td>24</td>\n",
              "      <td>M</td>\n",
              "      <td>f</td>\n",
              "      <td>f</td>\n",
              "      <td>f</td>\n",
              "      <td>f</td>\n",
              "      <td>f</td>\n",
              "      <td>f</td>\n",
              "      <td>f</td>\n",
              "      <td>f</td>\n",
              "      <td>f</td>\n",
              "      <td>f</td>\n",
              "      <td>f</td>\n",
              "      <td>y</td>\n",
              "      <td>0</td>\n",
              "      <td>y</td>\n",
              "      <td>0.20</td>\n",
              "      <td>y</td>\n",
              "      <td>4</td>\n",
              "      <td>y</td>\n",
              "      <td>1</td>\n",
              "      <td>y</td>\n",
              "      <td>0</td>\n",
              "      <td>n</td>\n",
              "      <td>?</td>\n",
              "    </tr>\n",
              "    <tr>\n",
              "      <th>3</th>\n",
              "      <td>hypothyroid</td>\n",
              "      <td>24</td>\n",
              "      <td>F</td>\n",
              "      <td>f</td>\n",
              "      <td>f</td>\n",
              "      <td>f</td>\n",
              "      <td>f</td>\n",
              "      <td>f</td>\n",
              "      <td>f</td>\n",
              "      <td>f</td>\n",
              "      <td>f</td>\n",
              "      <td>f</td>\n",
              "      <td>f</td>\n",
              "      <td>f</td>\n",
              "      <td>y</td>\n",
              "      <td>430</td>\n",
              "      <td>y</td>\n",
              "      <td>0.40</td>\n",
              "      <td>y</td>\n",
              "      <td>6</td>\n",
              "      <td>y</td>\n",
              "      <td>1.04</td>\n",
              "      <td>y</td>\n",
              "      <td>6</td>\n",
              "      <td>n</td>\n",
              "      <td>?</td>\n",
              "    </tr>\n",
              "    <tr>\n",
              "      <th>4</th>\n",
              "      <td>hypothyroid</td>\n",
              "      <td>77</td>\n",
              "      <td>M</td>\n",
              "      <td>f</td>\n",
              "      <td>f</td>\n",
              "      <td>f</td>\n",
              "      <td>f</td>\n",
              "      <td>f</td>\n",
              "      <td>f</td>\n",
              "      <td>f</td>\n",
              "      <td>f</td>\n",
              "      <td>f</td>\n",
              "      <td>f</td>\n",
              "      <td>f</td>\n",
              "      <td>y</td>\n",
              "      <td>7.30</td>\n",
              "      <td>y</td>\n",
              "      <td>1.20</td>\n",
              "      <td>y</td>\n",
              "      <td>57</td>\n",
              "      <td>y</td>\n",
              "      <td>1.28</td>\n",
              "      <td>y</td>\n",
              "      <td>44</td>\n",
              "      <td>n</td>\n",
              "      <td>?</td>\n",
              "    </tr>\n",
              "  </tbody>\n",
              "</table>\n",
              "</div>"
            ],
            "text/plain": [
              "        status age sex on_thyroxine  ... FTI_measured FTI TBG_measured TBG\n",
              "0  hypothyroid  72   M            f  ...            y  10            n   ?\n",
              "1  hypothyroid  15   F            t  ...            y  17            n   ?\n",
              "2  hypothyroid  24   M            f  ...            y   0            n   ?\n",
              "3  hypothyroid  24   F            f  ...            y   6            n   ?\n",
              "4  hypothyroid  77   M            f  ...            y  44            n   ?\n",
              "\n",
              "[5 rows x 26 columns]"
            ]
          },
          "metadata": {
            "tags": []
          },
          "execution_count": 131
        }
      ]
    },
    {
      "cell_type": "code",
      "metadata": {
        "id": "dm5tx5GAtL0I",
        "colab_type": "code",
        "outputId": "2e5135d9-3b1d-4807-8b9c-7fa895b69923",
        "colab": {
          "base_uri": "https://localhost:8080/",
          "height": 217
        }
      },
      "source": [
        "# Previewing the bottom of our data\n",
        "data.tail()"
      ],
      "execution_count": 132,
      "outputs": [
        {
          "output_type": "execute_result",
          "data": {
            "text/html": [
              "<div>\n",
              "<style scoped>\n",
              "    .dataframe tbody tr th:only-of-type {\n",
              "        vertical-align: middle;\n",
              "    }\n",
              "\n",
              "    .dataframe tbody tr th {\n",
              "        vertical-align: top;\n",
              "    }\n",
              "\n",
              "    .dataframe thead th {\n",
              "        text-align: right;\n",
              "    }\n",
              "</style>\n",
              "<table border=\"1\" class=\"dataframe\">\n",
              "  <thead>\n",
              "    <tr style=\"text-align: right;\">\n",
              "      <th></th>\n",
              "      <th>status</th>\n",
              "      <th>age</th>\n",
              "      <th>sex</th>\n",
              "      <th>on_thyroxine</th>\n",
              "      <th>query_on_thyroxine</th>\n",
              "      <th>on_antithyroid_medication</th>\n",
              "      <th>thyroid_surgery</th>\n",
              "      <th>query_hypothyroid</th>\n",
              "      <th>query_hyperthyroid</th>\n",
              "      <th>pregnant</th>\n",
              "      <th>sick</th>\n",
              "      <th>tumor</th>\n",
              "      <th>lithium</th>\n",
              "      <th>goitre</th>\n",
              "      <th>TSH_measured</th>\n",
              "      <th>TSH</th>\n",
              "      <th>T3_measured</th>\n",
              "      <th>T3</th>\n",
              "      <th>TT4_measured</th>\n",
              "      <th>TT4</th>\n",
              "      <th>T4U_measured</th>\n",
              "      <th>T4U</th>\n",
              "      <th>FTI_measured</th>\n",
              "      <th>FTI</th>\n",
              "      <th>TBG_measured</th>\n",
              "      <th>TBG</th>\n",
              "    </tr>\n",
              "  </thead>\n",
              "  <tbody>\n",
              "    <tr>\n",
              "      <th>3158</th>\n",
              "      <td>negative</td>\n",
              "      <td>58</td>\n",
              "      <td>F</td>\n",
              "      <td>f</td>\n",
              "      <td>f</td>\n",
              "      <td>f</td>\n",
              "      <td>f</td>\n",
              "      <td>f</td>\n",
              "      <td>f</td>\n",
              "      <td>f</td>\n",
              "      <td>f</td>\n",
              "      <td>f</td>\n",
              "      <td>f</td>\n",
              "      <td>f</td>\n",
              "      <td>y</td>\n",
              "      <td>5.80</td>\n",
              "      <td>y</td>\n",
              "      <td>1.70</td>\n",
              "      <td>y</td>\n",
              "      <td>86</td>\n",
              "      <td>y</td>\n",
              "      <td>0.91</td>\n",
              "      <td>y</td>\n",
              "      <td>95</td>\n",
              "      <td>n</td>\n",
              "      <td>?</td>\n",
              "    </tr>\n",
              "    <tr>\n",
              "      <th>3159</th>\n",
              "      <td>negative</td>\n",
              "      <td>29</td>\n",
              "      <td>F</td>\n",
              "      <td>f</td>\n",
              "      <td>f</td>\n",
              "      <td>f</td>\n",
              "      <td>f</td>\n",
              "      <td>f</td>\n",
              "      <td>f</td>\n",
              "      <td>f</td>\n",
              "      <td>f</td>\n",
              "      <td>f</td>\n",
              "      <td>f</td>\n",
              "      <td>f</td>\n",
              "      <td>y</td>\n",
              "      <td>0.80</td>\n",
              "      <td>y</td>\n",
              "      <td>1.80</td>\n",
              "      <td>y</td>\n",
              "      <td>99</td>\n",
              "      <td>y</td>\n",
              "      <td>1.01</td>\n",
              "      <td>y</td>\n",
              "      <td>98</td>\n",
              "      <td>n</td>\n",
              "      <td>?</td>\n",
              "    </tr>\n",
              "    <tr>\n",
              "      <th>3160</th>\n",
              "      <td>negative</td>\n",
              "      <td>77</td>\n",
              "      <td>M</td>\n",
              "      <td>f</td>\n",
              "      <td>f</td>\n",
              "      <td>f</td>\n",
              "      <td>f</td>\n",
              "      <td>f</td>\n",
              "      <td>f</td>\n",
              "      <td>f</td>\n",
              "      <td>f</td>\n",
              "      <td>f</td>\n",
              "      <td>f</td>\n",
              "      <td>f</td>\n",
              "      <td>y</td>\n",
              "      <td>1.20</td>\n",
              "      <td>y</td>\n",
              "      <td>0.60</td>\n",
              "      <td>y</td>\n",
              "      <td>71</td>\n",
              "      <td>y</td>\n",
              "      <td>0.68</td>\n",
              "      <td>y</td>\n",
              "      <td>104</td>\n",
              "      <td>n</td>\n",
              "      <td>?</td>\n",
              "    </tr>\n",
              "    <tr>\n",
              "      <th>3161</th>\n",
              "      <td>negative</td>\n",
              "      <td>74</td>\n",
              "      <td>F</td>\n",
              "      <td>f</td>\n",
              "      <td>f</td>\n",
              "      <td>f</td>\n",
              "      <td>f</td>\n",
              "      <td>f</td>\n",
              "      <td>f</td>\n",
              "      <td>f</td>\n",
              "      <td>f</td>\n",
              "      <td>f</td>\n",
              "      <td>f</td>\n",
              "      <td>f</td>\n",
              "      <td>y</td>\n",
              "      <td>1.30</td>\n",
              "      <td>y</td>\n",
              "      <td>0.10</td>\n",
              "      <td>y</td>\n",
              "      <td>65</td>\n",
              "      <td>y</td>\n",
              "      <td>0.48</td>\n",
              "      <td>y</td>\n",
              "      <td>137</td>\n",
              "      <td>n</td>\n",
              "      <td>?</td>\n",
              "    </tr>\n",
              "    <tr>\n",
              "      <th>3162</th>\n",
              "      <td>negative</td>\n",
              "      <td>56</td>\n",
              "      <td>F</td>\n",
              "      <td>t</td>\n",
              "      <td>f</td>\n",
              "      <td>f</td>\n",
              "      <td>f</td>\n",
              "      <td>f</td>\n",
              "      <td>f</td>\n",
              "      <td>f</td>\n",
              "      <td>f</td>\n",
              "      <td>f</td>\n",
              "      <td>f</td>\n",
              "      <td>f</td>\n",
              "      <td>y</td>\n",
              "      <td>0</td>\n",
              "      <td>y</td>\n",
              "      <td>1.80</td>\n",
              "      <td>y</td>\n",
              "      <td>139</td>\n",
              "      <td>y</td>\n",
              "      <td>0.97</td>\n",
              "      <td>y</td>\n",
              "      <td>143</td>\n",
              "      <td>n</td>\n",
              "      <td>?</td>\n",
              "    </tr>\n",
              "  </tbody>\n",
              "</table>\n",
              "</div>"
            ],
            "text/plain": [
              "        status age sex on_thyroxine  ... FTI_measured  FTI TBG_measured TBG\n",
              "3158  negative  58   F            f  ...            y   95            n   ?\n",
              "3159  negative  29   F            f  ...            y   98            n   ?\n",
              "3160  negative  77   M            f  ...            y  104            n   ?\n",
              "3161  negative  74   F            f  ...            y  137            n   ?\n",
              "3162  negative  56   F            t  ...            y  143            n   ?\n",
              "\n",
              "[5 rows x 26 columns]"
            ]
          },
          "metadata": {
            "tags": []
          },
          "execution_count": 132
        }
      ]
    },
    {
      "cell_type": "code",
      "metadata": {
        "id": "OCT2aeeOtQVO",
        "colab_type": "code",
        "outputId": "2ff4e0ab-d1b5-4d01-e6e6-b124a092878d",
        "colab": {
          "base_uri": "https://localhost:8080/",
          "height": 567
        }
      },
      "source": [
        "# checking whether each column has appropriate data types\n",
        "data.info()"
      ],
      "execution_count": 133,
      "outputs": [
        {
          "output_type": "stream",
          "text": [
            "<class 'pandas.core.frame.DataFrame'>\n",
            "RangeIndex: 3163 entries, 0 to 3162\n",
            "Data columns (total 26 columns):\n",
            "status                       3163 non-null object\n",
            "age                          3163 non-null object\n",
            "sex                          3163 non-null object\n",
            "on_thyroxine                 3163 non-null object\n",
            "query_on_thyroxine           3163 non-null object\n",
            "on_antithyroid_medication    3163 non-null object\n",
            "thyroid_surgery              3163 non-null object\n",
            "query_hypothyroid            3163 non-null object\n",
            "query_hyperthyroid           3163 non-null object\n",
            "pregnant                     3163 non-null object\n",
            "sick                         3163 non-null object\n",
            "tumor                        3163 non-null object\n",
            "lithium                      3163 non-null object\n",
            "goitre                       3163 non-null object\n",
            "TSH_measured                 3163 non-null object\n",
            "TSH                          3163 non-null object\n",
            "T3_measured                  3163 non-null object\n",
            "T3                           3163 non-null object\n",
            "TT4_measured                 3163 non-null object\n",
            "TT4                          3163 non-null object\n",
            "T4U_measured                 3163 non-null object\n",
            "T4U                          3163 non-null object\n",
            "FTI_measured                 3163 non-null object\n",
            "FTI                          3163 non-null object\n",
            "TBG_measured                 3163 non-null object\n",
            "TBG                          3163 non-null object\n",
            "dtypes: object(26)\n",
            "memory usage: 642.6+ KB\n"
          ],
          "name": "stdout"
        }
      ]
    },
    {
      "cell_type": "markdown",
      "metadata": {
        "id": "vfsbETiLt-fg",
        "colab_type": "text"
      },
      "source": [
        "> The data types for both the numerical and categorical values are listed as 'object'. We need to convert the numerical column data type to 'float64'. The categorical column data types are also to be converted to 'categorical' data type."
      ]
    },
    {
      "cell_type": "code",
      "metadata": {
        "id": "iv5QQ4YIuQlP",
        "colab_type": "code",
        "outputId": "3cc60e3d-e2f0-4925-83bc-cf022143546d",
        "colab": {
          "base_uri": "https://localhost:8080/",
          "height": 567
        }
      },
      "source": [
        "data.info()"
      ],
      "execution_count": 134,
      "outputs": [
        {
          "output_type": "stream",
          "text": [
            "<class 'pandas.core.frame.DataFrame'>\n",
            "RangeIndex: 3163 entries, 0 to 3162\n",
            "Data columns (total 26 columns):\n",
            "status                       3163 non-null object\n",
            "age                          3163 non-null object\n",
            "sex                          3163 non-null object\n",
            "on_thyroxine                 3163 non-null object\n",
            "query_on_thyroxine           3163 non-null object\n",
            "on_antithyroid_medication    3163 non-null object\n",
            "thyroid_surgery              3163 non-null object\n",
            "query_hypothyroid            3163 non-null object\n",
            "query_hyperthyroid           3163 non-null object\n",
            "pregnant                     3163 non-null object\n",
            "sick                         3163 non-null object\n",
            "tumor                        3163 non-null object\n",
            "lithium                      3163 non-null object\n",
            "goitre                       3163 non-null object\n",
            "TSH_measured                 3163 non-null object\n",
            "TSH                          3163 non-null object\n",
            "T3_measured                  3163 non-null object\n",
            "T3                           3163 non-null object\n",
            "TT4_measured                 3163 non-null object\n",
            "TT4                          3163 non-null object\n",
            "T4U_measured                 3163 non-null object\n",
            "T4U                          3163 non-null object\n",
            "FTI_measured                 3163 non-null object\n",
            "FTI                          3163 non-null object\n",
            "TBG_measured                 3163 non-null object\n",
            "TBG                          3163 non-null object\n",
            "dtypes: object(26)\n",
            "memory usage: 642.6+ KB\n"
          ],
          "name": "stdout"
        }
      ]
    },
    {
      "cell_type": "markdown",
      "metadata": {
        "id": "hdcPxpEXLSQ1",
        "colab_type": "text"
      },
      "source": [
        "# Data Cleaning"
      ]
    },
    {
      "cell_type": "code",
      "metadata": {
        "id": "ykTO7QEnzEYV",
        "colab_type": "code",
        "colab": {
          "base_uri": "https://localhost:8080/",
          "height": 496
        },
        "outputId": "b3c2fbfd-d395-4d49-ee1c-80c2430f1061"
      },
      "source": [
        "data.isnull().sum()"
      ],
      "execution_count": 135,
      "outputs": [
        {
          "output_type": "execute_result",
          "data": {
            "text/plain": [
              "status                       0\n",
              "age                          0\n",
              "sex                          0\n",
              "on_thyroxine                 0\n",
              "query_on_thyroxine           0\n",
              "on_antithyroid_medication    0\n",
              "thyroid_surgery              0\n",
              "query_hypothyroid            0\n",
              "query_hyperthyroid           0\n",
              "pregnant                     0\n",
              "sick                         0\n",
              "tumor                        0\n",
              "lithium                      0\n",
              "goitre                       0\n",
              "TSH_measured                 0\n",
              "TSH                          0\n",
              "T3_measured                  0\n",
              "T3                           0\n",
              "TT4_measured                 0\n",
              "TT4                          0\n",
              "T4U_measured                 0\n",
              "T4U                          0\n",
              "FTI_measured                 0\n",
              "FTI                          0\n",
              "TBG_measured                 0\n",
              "TBG                          0\n",
              "dtype: int64"
            ]
          },
          "metadata": {
            "tags": []
          },
          "execution_count": 135
        }
      ]
    },
    {
      "cell_type": "markdown",
      "metadata": {
        "id": "A85EpDyjzDSw",
        "colab_type": "text"
      },
      "source": [
        "We see that there are no null values but we had seen the special character ? in some columns.\n",
        "\n",
        "Hence we need to change that by replacing the ? with null values then impute them."
      ]
    },
    {
      "cell_type": "code",
      "metadata": {
        "id": "v-98cvc7zlZq",
        "colab_type": "code",
        "outputId": "fea48117-94ad-48f0-e475-cce8fe05d85d",
        "colab": {
          "base_uri": "https://localhost:8080/",
          "height": 34
        }
      },
      "source": [
        "df = data.replace(['?'], np.nan)\n",
        "df.isnull().sum().sum()"
      ],
      "execution_count": 136,
      "outputs": [
        {
          "output_type": "execute_result",
          "data": {
            "text/plain": [
              "5329"
            ]
          },
          "metadata": {
            "tags": []
          },
          "execution_count": 136
        }
      ]
    },
    {
      "cell_type": "code",
      "metadata": {
        "id": "cGqXyLXTyOMk",
        "colab_type": "code",
        "colab": {}
      },
      "source": [
        "# Creating a list of the numerical columns in the dataset.\n",
        "numeric = ['age', 'FTI', 'T3', 'T4U', 'TSH', 'TT4','TBG']\n",
        "\n",
        "for x in df.columns:\n",
        "   if x in numeric:\n",
        "       df[x]=pd.to_numeric(df[x])\n",
        "   else:\n",
        "        df[x]=df[x].astype('category')"
      ],
      "execution_count": 0,
      "outputs": []
    },
    {
      "cell_type": "code",
      "metadata": {
        "id": "C9AHfl8pz0p5",
        "colab_type": "code",
        "outputId": "ce8aa13c-cdff-4159-ff89-671bf4363c14",
        "colab": {
          "base_uri": "https://localhost:8080/",
          "height": 496
        }
      },
      "source": [
        "df.dtypes"
      ],
      "execution_count": 138,
      "outputs": [
        {
          "output_type": "execute_result",
          "data": {
            "text/plain": [
              "status                       category\n",
              "age                           float64\n",
              "sex                          category\n",
              "on_thyroxine                 category\n",
              "query_on_thyroxine           category\n",
              "on_antithyroid_medication    category\n",
              "thyroid_surgery              category\n",
              "query_hypothyroid            category\n",
              "query_hyperthyroid           category\n",
              "pregnant                     category\n",
              "sick                         category\n",
              "tumor                        category\n",
              "lithium                      category\n",
              "goitre                       category\n",
              "TSH_measured                 category\n",
              "TSH                           float64\n",
              "T3_measured                  category\n",
              "T3                            float64\n",
              "TT4_measured                 category\n",
              "TT4                           float64\n",
              "T4U_measured                 category\n",
              "T4U                           float64\n",
              "FTI_measured                 category\n",
              "FTI                           float64\n",
              "TBG_measured                 category\n",
              "TBG                           float64\n",
              "dtype: object"
            ]
          },
          "metadata": {
            "tags": []
          },
          "execution_count": 138
        }
      ]
    },
    {
      "cell_type": "code",
      "metadata": {
        "id": "pYB14EGpv3LA",
        "colab_type": "code",
        "outputId": "090b3592-c5d2-46c2-e8d2-4d9f4a8d4f22",
        "colab": {
          "base_uri": "https://localhost:8080/",
          "height": 496
        }
      },
      "source": [
        "#check for null values\n",
        "df.isnull().sum()"
      ],
      "execution_count": 139,
      "outputs": [
        {
          "output_type": "execute_result",
          "data": {
            "text/plain": [
              "status                          0\n",
              "age                           446\n",
              "sex                            73\n",
              "on_thyroxine                    0\n",
              "query_on_thyroxine              0\n",
              "on_antithyroid_medication       0\n",
              "thyroid_surgery                 0\n",
              "query_hypothyroid               0\n",
              "query_hyperthyroid              0\n",
              "pregnant                        0\n",
              "sick                            0\n",
              "tumor                           0\n",
              "lithium                         0\n",
              "goitre                          0\n",
              "TSH_measured                    0\n",
              "TSH                           468\n",
              "T3_measured                     0\n",
              "T3                            695\n",
              "TT4_measured                    0\n",
              "TT4                           249\n",
              "T4U_measured                    0\n",
              "T4U                           248\n",
              "FTI_measured                    0\n",
              "FTI                           247\n",
              "TBG_measured                    0\n",
              "TBG                          2903\n",
              "dtype: int64"
            ]
          },
          "metadata": {
            "tags": []
          },
          "execution_count": 139
        }
      ]
    },
    {
      "cell_type": "markdown",
      "metadata": {
        "id": "1epdKGDswP3I",
        "colab_type": "text"
      },
      "source": [
        "Finding outliers will guide us on the best way to deal with the null values. (Fill with mean, mode, median or back-fill or forward-fill)\n",
        "\n"
      ]
    },
    {
      "cell_type": "code",
      "metadata": {
        "id": "nY_V5hEAwX44",
        "colab_type": "code",
        "outputId": "88f00ba6-3378-4f55-f40b-9a0df441304a",
        "colab": {
          "base_uri": "https://localhost:8080/",
          "height": 52
        }
      },
      "source": [
        "#Are there outliers in the age dataset?\n",
        "\n",
        "Q1 = df.age.quantile(0.25)\n",
        "Q3 = df.age.quantile(0.75)\n",
        "\n",
        "IQR = Q3 - Q1\n",
        "\n",
        "age_outliers = ((df.age < Q1 - 1.5 * IQR) | (df.age > Q3 + 1.5 * IQR))\n",
        "age_outliers.value_counts()"
      ],
      "execution_count": 140,
      "outputs": [
        {
          "output_type": "execute_result",
          "data": {
            "text/plain": [
              "False    3163\n",
              "Name: age, dtype: int64"
            ]
          },
          "metadata": {
            "tags": []
          },
          "execution_count": 140
        }
      ]
    },
    {
      "cell_type": "markdown",
      "metadata": {
        "id": "gWS7JOs9wfqF",
        "colab_type": "text"
      },
      "source": [
        "This means that there's no record of outliers, the best preferred method to deal with the missing values in the case of the age column is to fill using the mean"
      ]
    },
    {
      "cell_type": "code",
      "metadata": {
        "id": "YERoQKlfxBII",
        "colab_type": "code",
        "outputId": "28083bda-d27c-4bd9-a0fa-6a854b228b15",
        "colab": {
          "base_uri": "https://localhost:8080/",
          "height": 34
        }
      },
      "source": [
        "#Finding mean of the age column\n",
        "\n",
        "df.age.mean()"
      ],
      "execution_count": 141,
      "outputs": [
        {
          "output_type": "execute_result",
          "data": {
            "text/plain": [
              "51.154214206845786"
            ]
          },
          "metadata": {
            "tags": []
          },
          "execution_count": 141
        }
      ]
    },
    {
      "cell_type": "code",
      "metadata": {
        "id": "GBeW5ZAnxPyH",
        "colab_type": "code",
        "colab": {}
      },
      "source": [
        "#Filling the missing value entries with mean\n",
        "\n",
        "df.age = df.age.fillna(df.age.mean())"
      ],
      "execution_count": 0,
      "outputs": []
    },
    {
      "cell_type": "code",
      "metadata": {
        "id": "fFyHUTuktT12",
        "colab_type": "code",
        "outputId": "29ea7965-2cbd-4817-f56d-a10bdcd79c42",
        "colab": {
          "base_uri": "https://localhost:8080/",
          "height": 34
        }
      },
      "source": [
        "# checking for duplicated values\n",
        "df.duplicated().sum()"
      ],
      "execution_count": 143,
      "outputs": [
        {
          "output_type": "execute_result",
          "data": {
            "text/plain": [
              "77"
            ]
          },
          "metadata": {
            "tags": []
          },
          "execution_count": 143
        }
      ]
    },
    {
      "cell_type": "code",
      "metadata": {
        "id": "jArR4PleuvI2",
        "colab_type": "code",
        "colab": {}
      },
      "source": [
        "# dropping duplicated columns\n",
        "df.drop_duplicates(keep=False,inplace=True)"
      ],
      "execution_count": 0,
      "outputs": []
    },
    {
      "cell_type": "code",
      "metadata": {
        "id": "XmcZ5ck4u2uC",
        "colab_type": "code",
        "outputId": "9f803ce7-9d91-4900-acf9-f6da660c71bf",
        "colab": {
          "base_uri": "https://localhost:8080/",
          "height": 34
        }
      },
      "source": [
        "df.duplicated().sum()"
      ],
      "execution_count": 145,
      "outputs": [
        {
          "output_type": "execute_result",
          "data": {
            "text/plain": [
              "0"
            ]
          },
          "metadata": {
            "tags": []
          },
          "execution_count": 145
        }
      ]
    },
    {
      "cell_type": "code",
      "metadata": {
        "id": "YDIeeVKeu7Ch",
        "colab_type": "code",
        "outputId": "c08fb98f-5d6d-4bfd-ed81-0e998f96b0ca",
        "colab": {
          "base_uri": "https://localhost:8080/",
          "height": 1000
        }
      },
      "source": [
        "#Check for the unique values in every column\n",
        "\n",
        "for x in df.columns :\n",
        "  print('\\n')                    \n",
        "  print(data[x].nunique())    \n",
        "  print(data[x].unique())"
      ],
      "execution_count": 146,
      "outputs": [
        {
          "output_type": "stream",
          "text": [
            "\n",
            "\n",
            "2\n",
            "['hypothyroid' 'negative']\n",
            "\n",
            "\n",
            "93\n",
            "['72' '15' '24' '77' '85' '64' '20' '42' '69' '75' '53' '59' '68' '50'\n",
            " '78' '65' '28' '43' '40' '84' '?' '83' '63' '73' '36' '27' '48' '71' '60'\n",
            " '34' '79' '62' '74' '32' '41' '70' '29' '5' '58' '35' '51' '22' '16' '44'\n",
            " '39' '47' '18' '17' '88' '56' '30' '45' '66' '52' '54' '80' '33' '38'\n",
            " '92' '67' '46' '13' '89' '61' '49' '26' '57' '31' '90' '81' '25' '37'\n",
            " '76' '87' '23' '55' '86' '98' '21' '97' '1' '6' '14' '82' '11' '19' '9'\n",
            " '12' '10' '8' '7' '4' '93']\n",
            "\n",
            "\n",
            "3\n",
            "['M' 'F' '?']\n",
            "\n",
            "\n",
            "2\n",
            "['f' 't']\n",
            "\n",
            "\n",
            "2\n",
            "['f' 't']\n",
            "\n",
            "\n",
            "2\n",
            "['f' 't']\n",
            "\n",
            "\n",
            "2\n",
            "['f' 't']\n",
            "\n",
            "\n",
            "2\n",
            "['f' 't']\n",
            "\n",
            "\n",
            "2\n",
            "['f' 't']\n",
            "\n",
            "\n",
            "2\n",
            "['f' 't']\n",
            "\n",
            "\n",
            "2\n",
            "['f' 't']\n",
            "\n",
            "\n",
            "2\n",
            "['f' 't']\n",
            "\n",
            "\n",
            "2\n",
            "['f' 't']\n",
            "\n",
            "\n",
            "2\n",
            "['f' 't']\n",
            "\n",
            "\n",
            "2\n",
            "['y' 'n']\n",
            "\n",
            "\n",
            "240\n",
            "['30' '145' '0' '430' '7.30' '138' '7.70' '21' '92' '48' '36' '15' '15.30'\n",
            " '25' '61' '28' '170' '54' '216' '56' '71' '46' '70' '34' '53' '9.40'\n",
            " '126' '10' '530' '35' '65' '57' '125' '23' '80' '117' '49' '66' '8.20'\n",
            " '150' '?' '18' '165' '164' '24' '90' '77' '19' '58' '100' '213' '17'\n",
            " '235' '153' '13' '31' '109' '260' '43' '12' '11' '55' '6.50' '20' '7.50'\n",
            " '14' '60' '140' '33' '8.70' '0.25' '10.70' '82' '45' '42' '41' '160' '16'\n",
            " '89' '44' '176' '6.40' '183' '29' '37' '39' '7.90' '59' '68' '38' '47'\n",
            " '143' '6.60' '288' '96' '0.50' '1.20' '1.90' '0.09' '3.10' '0.40' '0.85'\n",
            " '0.30' '0.90' '1.50' '4.60' '0.20' '5.80' '4' '1.40' '2' '2.60' '2.90'\n",
            " '0.80' '4.90' '10.30' '2.30' '0.70' '0.60' '1.30' '2.50' '5.10' '1.70'\n",
            " '2.70' '22' '8.10' '3.30' '5' '3.20' '1.80' '1.10' '0.46' '1' '5.60'\n",
            " '4.40' '16.50' '2.10' '6.30' '5.50' '7.40' '5.90' '0.15' '14.90' '2.20'\n",
            " '9.70' '9.60' '1.60' '3.70' '3' '2.80' '0.10' '4.20' '27' '3.50' '0.05'\n",
            " '19.20' '8' '9.10' '3.60' '7.80' '3.80' '8.50' '9.20' '52' '2.40' '3.90'\n",
            " '0.03' '0.04' '26' '6.10' '0.65' '0.92' '7.60' '8.40' '14.40' '1.05'\n",
            " '0.37' '178' '6.90' '4.50' '4.70' '40' '6' '4.10' '14.30' '5.40' '8.30'\n",
            " '0.06' '8.80' '8.90' '7.10' '4.80' '0.43' '6.70' '200' '8.60' '86' '0.21'\n",
            " '9' '0.26' '3.40' '6.20' '17.40' '85' '1.83' '63' '13.30' '0.02' '0.42'\n",
            " '9.50' '0.84' '0.88' '4.30' '0.67' '0.81' '5.20' '9.80' '76' '0.62'\n",
            " '0.01' '11.40' '88' '0.68' '0.07' '0.69' '0.77' '9.90' '0.64' '13.20'\n",
            " '6.80' '0.28' '11.60' '0.91' '1.01' '0.23' '0.35' '50' '32' '0.83' '0.08']\n",
            "\n",
            "\n",
            "2\n",
            "['y' 'n']\n",
            "\n",
            "\n",
            "70\n",
            "['0.60' '1.70' '0.20' '0.40' '1.20' '1.10' '1.30' '1.90' '?' '0.80' '2.20'\n",
            " '1.50' '2.70' '2' '0.30' '2.10' '0.50' '0.70' '1' '1.40' '2.30' '2.40'\n",
            " '0.90' '1.80' '0' '2.80' '1.60' '6.70' '3.30' '3' '2.50' '2.60' '4'\n",
            " '9.80' '3.90' '3.40' '3.80' '4.50' '3.20' '3.70' '4.30' '2.90' '3.10'\n",
            " '3.50' '3.60' '6.60' '4.90' '8.90' '4.10' '5' '5.30' '7.60' '7.30' '4.20'\n",
            " '4.40' '5.10' '7' '0.10' '0.05' '4.70' '6.20' '5.50' '4.60' '6.10' '8.10'\n",
            " '5.20' '5.60' '4.80' '10.20' '8.60']\n",
            "\n",
            "\n",
            "2\n",
            "['y' 'n']\n",
            "\n",
            "\n",
            "269\n",
            "['15' '19' '4' '6' '57' '27' '54' '34' '39' '7.60' '53' '38' '98' '44'\n",
            " '37' '81' '13' '17' '12' '50' '23' '14' '3.90' '52' '32' '30' '84' '10'\n",
            " '55' '24' '28' '11' '6.60' '31' '33' '41' '9' '78' '42' '8.10' '65' '16'\n",
            " '9.70' '46' '22' '61' '2.30' '21' '7.50' '18' '66' '25' '43' '2' '3' '58'\n",
            " '59' '71' '74' '56' '40' '20' '48' '230' '70' '4.10' '63' '5.30' '2.90'\n",
            " '62' '75' '68' '45' '47' '36' '80' '109' '8.60' '83' '82' '101' '76'\n",
            " '103' '112' '206' '110' '93' '79' '121' '?' '107' '88' '187' '254' '115'\n",
            " '113' '260' '117' '164' '97' '64' '129' '111' '106' '95' '87' '105' '90'\n",
            " '67' '134' '35' '193' '143' '130' '108' '86' '96' '92' '99' '216' '152'\n",
            " '125' '138' '194' '91' '120' '102' '170' '126' '116' '140' '94' '159'\n",
            " '85' '210' '89' '151' '247' '139' '153' '178' '123' '137' '161' '7.30'\n",
            " '72' '202' '122' '124' '157' '118' '104' '135' '186' '241' '131' '119'\n",
            " '100' '220' '176' '136' '183' '155' '208' '199' '154' '169' '128' '235'\n",
            " '195' '267' '232' '197' '212' '149' '127' '245' '132' '162' '77' '142'\n",
            " '69' '173' '141' '156' '181' '189' '60' '114' '198' '147' '191' '177'\n",
            " '174' '207' '168' '73' '160' '145' '200' '182' '158' '203' '209' '217'\n",
            " '430' '213' '218' '163' '296' '167' '148' '166' '185' '248' '172' '144'\n",
            " '150' '165' '196' '308' '146' '426' '224' '29' '204' '201' '133' '180'\n",
            " '184' '450' '244' '301' '255' '252' '396' '223' '261' '250' '179' '219'\n",
            " '190' '51' '221' '171' '242' '275' '211' '49' '239' '205' '222' '256'\n",
            " '214' '282' '287' '253' '269' '175' '228' '333' '258' '236' '225' '263'\n",
            " '283' '359' '188' '240']\n",
            "\n",
            "\n",
            "2\n",
            "['y' 'n']\n",
            "\n",
            "\n",
            "159\n",
            "['1.48' '1.13' '1' '1.04' '1.28' '1.19' '0.86' '1.05' '1.21' '1.02' '0.92'\n",
            " '1.29' '0.98' '1.08' '1.01' '1.18' '1.10' '1.27' '0.83' '1.11' '0.78'\n",
            " '1.39' '1.12' '0.93' '0.99' '0.90' '1.06' '0.68' '0.67' '1.14' '0.80'\n",
            " '0.96' '0.95' '1.46' '1.03' '0.97' '0.94' '1.09' '1.24' '1.23' '1.53'\n",
            " '1.26' '1.40' '1.17' '0.87' '0.61' '0.70' '1.07' '1.73' '1.45' '1.20'\n",
            " '0.89' '0.84' '0.91' '0.85' '1.35' '0.82' '1.50' '0.74' '1.71' '1.79'\n",
            " '0.73' '0.77' '1.25' '?' '0.88' '0.72' '0.31' '0' '0.79' '0.81' '0.71'\n",
            " '1.93' '1.32' '0.66' '1.68' '1.42' '1.70' '1.83' '1.41' '1.34' '1.65'\n",
            " '1.22' '0.75' '1.74' '0.69' '1.51' '0.76' '1.16' '0.35' '0.62' '0.54'\n",
            " '1.36' '1.33' '1.30' '0.48' '1.59' '1.75' '1.86' '1.38' '1.43' '1.62'\n",
            " '2.01' '0.30' '1.31' '1.15' '1.57' '0.55' '1.66' '0.52' '1.97' '1.47'\n",
            " '0.36' '1.88' '1.55' '0.34' '1.67' '0.58' '0.60' '0.59' '1.37' '1.76'\n",
            " '0.64' '1.80' '0.41' '0.20' '1.77' '0.33' '1.54' '0.46' '0.32' '1.44'\n",
            " '1.56' '0.56' '1.52' '2.03' '0.65' '0.63' '1.96' '0.53' '0.47' '0.29'\n",
            " '2.21' '1.69' '1.64' '1.49' '1.72' '1.58' '0.57' '1.61' '0.28' '2' '1.63'\n",
            " '0.27' '1.94' '0.50' '0.49' '0.40' '0.38']\n",
            "\n",
            "\n",
            "2\n",
            "['y' 'n']\n",
            "\n",
            "\n",
            "281\n",
            "['10' '17' '0' '6' '44' '23' '63' '32' '7.50' '61' '41' '76' '45' '34'\n",
            " '81' '11' '16' '46' '22' '12' '5' '47' '29' '37' '60' '8.40' '8.50' '24'\n",
            " '28' '7' '49' '36' '15' '9' '80' '53' '7.20' '68' '6.60' '48' '21' '14'\n",
            " '2' '20' '1.40' '56' '3' '51' '13' '43' '78' '52' '64' '26' '35' '31'\n",
            " '133' '3.40' '54' '8.90' '57' '5.50' '58' '55' '2.80' '66' '4' '40' '50'\n",
            " '8.70' '87' '89' '112' '123' '99' '92' '104' '69' '196' '107' '106' '74'\n",
            " '97' '?' '122' '84' '114' '124' '241' '119' '120' '136' '85' '127' '839'\n",
            " '137' '197' '96' '77' '108' '82' '72' '94' '91' '240' '121' '109' '79'\n",
            " '100' '98' '73' '117' '165' '103' '88' '101' '126' '132' '128' '143'\n",
            " '152' '141' '186' '113' '102' '125' '93' '105' '159' '188' '71' '149'\n",
            " '116' '83' '176' '161' '86' '140' '111' '158' '115' '171' '90' '95' '70'\n",
            " '135' '134' '178' '110' '170' '205' '695' '155' '118' '741' '131' '129'\n",
            " '142' '153' '75' '254' '246' '139' '185' '157' '147' '164' '130' '222'\n",
            " '650' '174' '182' '144' '169' '257' '145' '345' '180' '167' '151' '154'\n",
            " '150' '219' '228' '65' '187' '166' '195' '208' '138' '33' '173' '146'\n",
            " '211' '181' '190' '247' '221' '395' '216' '212' '148' '162' '220' '370'\n",
            " '450' '160' '59' '189' '203' '168' '179' '264' '470' '184' '163' '67'\n",
            " '213' '354' '292' '359' '172' '156' '334' '177' '214' '194' '192' '215'\n",
            " '217' '271' '250' '244' '308' '881' '258' '316' '200' '711' '256' '232'\n",
            " '202' '39' '248' '237' '259' '445' '19' '852' '42' '235' '634' '283'\n",
            " '305' '204' '229' '332' '550' '249' '263' '615' '266' '198' '175' '209'\n",
            " '299' '193' '227' '223' '337' '210' '272' '702' '218' '239' '355' '482'\n",
            " '347' '485' '612' '428']\n",
            "\n",
            "\n",
            "2\n",
            "['n' 'y']\n",
            "\n",
            "\n",
            "53\n",
            "['?' '28' '34' '0' '19' '30' '25' '48' '39' '31' '16' '21' '37' '40' '27'\n",
            " '3.10' '38' '108' '20' '36' '17' '23' '35' '32' '63' '9.30' '15' '26'\n",
            " '33' '41' '110' '22' '43' '53' '80' '47' '29' '13' '24' '18' '45' '86'\n",
            " '50' '8.40' '52' '11' '12' '14' '65' '7.30' '8.50' '69' '122']\n"
          ],
          "name": "stdout"
        }
      ]
    },
    {
      "cell_type": "code",
      "metadata": {
        "id": "MQDPh9FcvGU-",
        "colab_type": "code",
        "outputId": "3860da9f-2e72-4c4a-be19-2758609055f7",
        "colab": {
          "base_uri": "https://localhost:8080/",
          "height": 87
        }
      },
      "source": [
        "#Fill a null value using fillna()  \n",
        "\n",
        "df.sex = df.sex.replace(to_replace = np.nan, value = 'unknown')  \n",
        "\n",
        "#Confirm the changes\n",
        "\n",
        "df.sex.value_counts()"
      ],
      "execution_count": 147,
      "outputs": [
        {
          "output_type": "execute_result",
          "data": {
            "text/plain": [
              "F          2057\n",
              "M           880\n",
              "unknown      73\n",
              "Name: sex, dtype: int64"
            ]
          },
          "metadata": {
            "tags": []
          },
          "execution_count": 147
        }
      ]
    },
    {
      "cell_type": "code",
      "metadata": {
        "id": "srquMLWm1x1A",
        "colab_type": "code",
        "outputId": "48509505-2d63-4e23-d937-44dbc342527e",
        "colab": {
          "base_uri": "https://localhost:8080/",
          "height": 496
        }
      },
      "source": [
        "#check for null values\n",
        "df.isnull().sum()"
      ],
      "execution_count": 148,
      "outputs": [
        {
          "output_type": "execute_result",
          "data": {
            "text/plain": [
              "status                          0\n",
              "age                             0\n",
              "sex                             0\n",
              "on_thyroxine                    0\n",
              "query_on_thyroxine              0\n",
              "on_antithyroid_medication       0\n",
              "thyroid_surgery                 0\n",
              "query_hypothyroid               0\n",
              "query_hyperthyroid              0\n",
              "pregnant                        0\n",
              "sick                            0\n",
              "tumor                           0\n",
              "lithium                         0\n",
              "goitre                          0\n",
              "TSH_measured                    0\n",
              "TSH                           443\n",
              "T3_measured                     0\n",
              "T3                            666\n",
              "TT4_measured                    0\n",
              "TT4                           232\n",
              "T4U_measured                    0\n",
              "T4U                           231\n",
              "FTI_measured                    0\n",
              "FTI                           230\n",
              "TBG_measured                    0\n",
              "TBG                          2767\n",
              "dtype: int64"
            ]
          },
          "metadata": {
            "tags": []
          },
          "execution_count": 148
        }
      ]
    },
    {
      "cell_type": "code",
      "metadata": {
        "id": "G27Mu7xH0-4W",
        "colab_type": "code",
        "colab": {}
      },
      "source": [
        "#Fill the missing value entries with the median\n",
        "\n",
        "df.TSH = df.TSH.fillna(df.TSH.median())\n",
        "\n",
        "df.T3 = df.T3.fillna(df.T3.median())\n",
        "\n",
        "df.TT4 = df.TT4.fillna(df.TT4.median())\n",
        "\n",
        "df.FTI = df.FTI.fillna(df.FTI.median())\n",
        "\n",
        "df.T4U = df.T4U.fillna(df.T4U.median())\n",
        "\n",
        "df.TBG = df.TBG.fillna(df.TBG.median())"
      ],
      "execution_count": 0,
      "outputs": []
    },
    {
      "cell_type": "markdown",
      "metadata": {
        "id": "CC0YCQ6x18hU",
        "colab_type": "text"
      },
      "source": [
        "Therefore, how to deal with missing values\n",
        "\n",
        "Using the median strikes me as the best option since it is essentail to assign the patients a hormone level that's within normal range.\n",
        "\n",
        "So replace with the median value in each category."
      ]
    },
    {
      "cell_type": "code",
      "metadata": {
        "id": "3UL87TiF19P3",
        "colab_type": "code",
        "outputId": "8339685b-efca-4764-d88d-b523ade8d026",
        "colab": {
          "base_uri": "https://localhost:8080/",
          "height": 496
        }
      },
      "source": [
        "df.isnull().sum()"
      ],
      "execution_count": 150,
      "outputs": [
        {
          "output_type": "execute_result",
          "data": {
            "text/plain": [
              "status                       0\n",
              "age                          0\n",
              "sex                          0\n",
              "on_thyroxine                 0\n",
              "query_on_thyroxine           0\n",
              "on_antithyroid_medication    0\n",
              "thyroid_surgery              0\n",
              "query_hypothyroid            0\n",
              "query_hyperthyroid           0\n",
              "pregnant                     0\n",
              "sick                         0\n",
              "tumor                        0\n",
              "lithium                      0\n",
              "goitre                       0\n",
              "TSH_measured                 0\n",
              "TSH                          0\n",
              "T3_measured                  0\n",
              "T3                           0\n",
              "TT4_measured                 0\n",
              "TT4                          0\n",
              "T4U_measured                 0\n",
              "T4U                          0\n",
              "FTI_measured                 0\n",
              "FTI                          0\n",
              "TBG_measured                 0\n",
              "TBG                          0\n",
              "dtype: int64"
            ]
          },
          "metadata": {
            "tags": []
          },
          "execution_count": 150
        }
      ]
    },
    {
      "cell_type": "code",
      "metadata": {
        "id": "Fcpjto5ywYGO",
        "colab_type": "code",
        "colab": {}
      },
      "source": [
        "measured = ['TSH','T3','TT4','T4U','FTI','TBG']"
      ],
      "execution_count": 0,
      "outputs": []
    },
    {
      "cell_type": "code",
      "metadata": {
        "id": "PzLIw0NZwD2u",
        "colab_type": "code",
        "colab": {
          "base_uri": "https://localhost:8080/",
          "height": 1000
        },
        "outputId": "0e721d54-1b6f-4e87-df9e-9c5922986ce9"
      },
      "source": [
        "# We will use a boxplot to check for outliers\n",
        "# we will use the list of measures/tests earlier created\n",
        "\n",
        "# Specifying the chart we will use to plot the boxplots\n",
        "fig, axes = plt.subplots(nrows = 3, ncols = 2, figsize = (20, 20))\n",
        "\n",
        "# labeling the title\n",
        "fig.suptitle('Box plots for Measures/Test features', y= 1, color = 'magenta', fontsize = 15)\n",
        "\n",
        "sns.set(style = 'whitegrid', context = 'notebook')\n",
        "\n",
        "# Using a for loop to iterate through the measured list and plot respective boxplots\n",
        "for ax, data, name in zip(axes.flatten(), df, measured):\n",
        "  sns.boxplot(df[name], ax = ax)\n",
        "  ax.set_title('Box plot for '+ name)\n",
        "  \n",
        "plt.show()"
      ],
      "execution_count": 152,
      "outputs": [
        {
          "output_type": "display_data",
          "data": {
            "image/png": "[encoded data removed]",
            "text/plain": [
              "<Figure size 1440x1440 with 6 Axes>"
            ]
          },
          "metadata": {
            "tags": []
          }
        }
      ]
    },
    {
      "cell_type": "markdown",
      "metadata": {
        "id": "EXMAHMluwiee",
        "colab_type": "text"
      },
      "source": [
        "All measured have plenty of outliers as shwon by the boxplots.\n",
        "\n",
        "TT4, T4U and FTI have outliers on both sides of the boxplots (below Q1 and above Q4)\n",
        "\n",
        "TSH, T3 and TBG have outliers on the right side i.e. above the Q4.\n",
        "\n",
        "We will not remove outliers for now.\n",
        "\n",
        " Instead, we will create a model when they are present, observe the results,                                                                           then remove them accordingly."
      ]
    },
    {
      "cell_type": "markdown",
      "metadata": {
        "id": "a1YlRsi92wKN",
        "colab_type": "text"
      },
      "source": [
        "# EDA and Feature Engineering"
      ]
    },
    {
      "cell_type": "code",
      "metadata": {
        "id": "_uZt-0uyFSWm",
        "colab_type": "code",
        "colab": {
          "base_uri": "https://localhost:8080/",
          "height": 285
        },
        "outputId": "be47e4ab-b0ae-40eb-c5ed-aa2e98a9707c"
      },
      "source": [
        "# previewing our data set's gender distribution\n",
        "df.sex.value_counts().plot(kind = 'bar', rot = 0)"
      ],
      "execution_count": 153,
      "outputs": [
        {
          "output_type": "execute_result",
          "data": {
            "text/plain": [
              "<matplotlib.axes._subplots.AxesSubplot at 0x7fcd903c0240>"
            ]
          },
          "metadata": {
            "tags": []
          },
          "execution_count": 153
        },
        {
          "output_type": "display_data",
          "data": {
            "image/png": "[encoded data removed]",
            "text/plain": [
              "<Figure size 432x288 with 1 Axes>"
            ]
          },
          "metadata": {
            "tags": []
          }
        }
      ]
    },
    {
      "cell_type": "code",
      "metadata": {
        "id": "7ArYyQoyF6dn",
        "colab_type": "code",
        "colab": {
          "base_uri": "https://localhost:8080/",
          "height": 285
        },
        "outputId": "1a14662d-1cc5-4d44-eddd-dcbb8f8e1e6d"
      },
      "source": [
        "# distribution of pregnancy\n",
        "df.pregnant.value_counts().plot(kind = 'bar', rot = 0)"
      ],
      "execution_count": 154,
      "outputs": [
        {
          "output_type": "execute_result",
          "data": {
            "text/plain": [
              "<matplotlib.axes._subplots.AxesSubplot at 0x7fcd6e44f048>"
            ]
          },
          "metadata": {
            "tags": []
          },
          "execution_count": 154
        },
        {
          "output_type": "display_data",
          "data": {
            "image/png": "[encoded data removed]",
            "text/plain": [
              "<Figure size 432x288 with 1 Axes>"
            ]
          },
          "metadata": {
            "tags": []
          }
        }
      ]
    },
    {
      "cell_type": "code",
      "metadata": {
        "id": "zJC6SV19F6cE",
        "colab_type": "code",
        "colab": {
          "base_uri": "https://localhost:8080/",
          "height": 323
        },
        "outputId": "bd0c7eb8-6b22-42ea-a866-a7fea6bfc5cb"
      },
      "source": [
        "# distribution of hypothyroidism status\n",
        "df.status.value_counts().plot(kind = 'bar', rot = 0)\n",
        "print(df.status.value_counts())"
      ],
      "execution_count": 155,
      "outputs": [
        {
          "output_type": "stream",
          "text": [
            "negative       2879\n",
            "hypothyroid     131\n",
            "Name: status, dtype: int64\n"
          ],
          "name": "stdout"
        },
        {
          "output_type": "display_data",
          "data": {
            "image/png": "[encoded data removed]",
            "text/plain": [
              "<Figure size 432x288 with 1 Axes>"
            ]
          },
          "metadata": {
            "tags": []
          }
        }
      ]
    },
    {
      "cell_type": "markdown",
      "metadata": {
        "id": "vmAkw-k0Gfj4",
        "colab_type": "text"
      },
      "source": [
        "It appears that most of the observations have reported 'negative'. Those without hypothyroidism outnumber those with it 2945 to 141 which makes this dataset very biased and also not appropriate enough to effectively and realistically answer the research question."
      ]
    },
    {
      "cell_type": "code",
      "metadata": {
        "id": "gEQDTDgA2COZ",
        "colab_type": "code",
        "outputId": "c2cb9287-13ab-486c-ae28-55e26263836f",
        "colab": {
          "base_uri": "https://localhost:8080/",
          "height": 744
        }
      },
      "source": [
        "# Histograms of the numerical columns\n",
        "# these are columns which represent measures or thyroid tests.\n",
        "# First we create a list containing all the measures columns\n",
        "\n",
        "measure_columns = ['TSH','T3','TT4','T4U','FTI','TBG']\n",
        "\n",
        "sns.set_style('darkgrid')\n",
        "fig, axes = plt.subplots(nrows=3, ncols = 2, figsize = (10,10))\n",
        "fig.suptitle('Distributions of Measures/Test Features', y= 1.01, color = 'blue', fontsize = 20, weight = 'bold')\n",
        "\n",
        "for ax, data, name in zip(axes.flatten(), df, measure_columns):\n",
        "  sns.distplot(df[name], ax = ax, kde = True, color = 'green')\n",
        "plt.tight_layout()\n",
        "plt.show()"
      ],
      "execution_count": 156,
      "outputs": [
        {
          "output_type": "display_data",
          "data": {
            "image/png": "[encoded data removed]",
            "text/plain": [
              "<Figure size 720x720 with 6 Axes>"
            ]
          },
          "metadata": {
            "tags": []
          }
        }
      ]
    },
    {
      "cell_type": "markdown",
      "metadata": {
        "id": "zqQbAMK8xHxx",
        "colab_type": "text"
      },
      "source": [
        "The histograms show the distribution of various features.\n",
        "\n",
        "Most distributions are near normal but filling the missing values with zero affects the first bin in nearly all the graphs.\n",
        "\n",
        "Ideally, filling the missing values with mean seems like the best option so as to affect the data distributions.\n",
        "\n",
        "For modeling purposes, the distributions will remain for now."
      ]
    },
    {
      "cell_type": "code",
      "metadata": {
        "id": "92zU2Qsx2t0H",
        "colab_type": "code",
        "outputId": "6e180ec2-20d2-4f44-fbc5-c24c59ba5495",
        "colab": {
          "base_uri": "https://localhost:8080/",
          "height": 397
        }
      },
      "source": [
        "# get summary statistics\n",
        "df.describe(include = 'all')"
      ],
      "execution_count": 157,
      "outputs": [
        {
          "output_type": "execute_result",
          "data": {
            "text/html": [
              "<div>\n",
              "<style scoped>\n",
              "    .dataframe tbody tr th:only-of-type {\n",
              "        vertical-align: middle;\n",
              "    }\n",
              "\n",
              "    .dataframe tbody tr th {\n",
              "        vertical-align: top;\n",
              "    }\n",
              "\n",
              "    .dataframe thead th {\n",
              "        text-align: right;\n",
              "    }\n",
              "</style>\n",
              "<table border=\"1\" class=\"dataframe\">\n",
              "  <thead>\n",
              "    <tr style=\"text-align: right;\">\n",
              "      <th></th>\n",
              "      <th>status</th>\n",
              "      <th>age</th>\n",
              "      <th>sex</th>\n",
              "      <th>on_thyroxine</th>\n",
              "      <th>query_on_thyroxine</th>\n",
              "      <th>on_antithyroid_medication</th>\n",
              "      <th>thyroid_surgery</th>\n",
              "      <th>query_hypothyroid</th>\n",
              "      <th>query_hyperthyroid</th>\n",
              "      <th>pregnant</th>\n",
              "      <th>sick</th>\n",
              "      <th>tumor</th>\n",
              "      <th>lithium</th>\n",
              "      <th>goitre</th>\n",
              "      <th>TSH_measured</th>\n",
              "      <th>TSH</th>\n",
              "      <th>T3_measured</th>\n",
              "      <th>T3</th>\n",
              "      <th>TT4_measured</th>\n",
              "      <th>TT4</th>\n",
              "      <th>T4U_measured</th>\n",
              "      <th>T4U</th>\n",
              "      <th>FTI_measured</th>\n",
              "      <th>FTI</th>\n",
              "      <th>TBG_measured</th>\n",
              "      <th>TBG</th>\n",
              "    </tr>\n",
              "  </thead>\n",
              "  <tbody>\n",
              "    <tr>\n",
              "      <th>count</th>\n",
              "      <td>3010</td>\n",
              "      <td>3010.000000</td>\n",
              "      <td>3010</td>\n",
              "      <td>3010</td>\n",
              "      <td>3010</td>\n",
              "      <td>3010</td>\n",
              "      <td>3010</td>\n",
              "      <td>3010</td>\n",
              "      <td>3010</td>\n",
              "      <td>3010</td>\n",
              "      <td>3010</td>\n",
              "      <td>3010</td>\n",
              "      <td>3010</td>\n",
              "      <td>3010</td>\n",
              "      <td>3010</td>\n",
              "      <td>3010.000000</td>\n",
              "      <td>3010</td>\n",
              "      <td>3010.000000</td>\n",
              "      <td>3010</td>\n",
              "      <td>3010.000000</td>\n",
              "      <td>3010</td>\n",
              "      <td>3010.000000</td>\n",
              "      <td>3010</td>\n",
              "      <td>3010.000000</td>\n",
              "      <td>3010</td>\n",
              "      <td>3010.000000</td>\n",
              "    </tr>\n",
              "    <tr>\n",
              "      <th>unique</th>\n",
              "      <td>2</td>\n",
              "      <td>NaN</td>\n",
              "      <td>3</td>\n",
              "      <td>2</td>\n",
              "      <td>2</td>\n",
              "      <td>2</td>\n",
              "      <td>2</td>\n",
              "      <td>2</td>\n",
              "      <td>2</td>\n",
              "      <td>2</td>\n",
              "      <td>2</td>\n",
              "      <td>2</td>\n",
              "      <td>2</td>\n",
              "      <td>2</td>\n",
              "      <td>2</td>\n",
              "      <td>NaN</td>\n",
              "      <td>2</td>\n",
              "      <td>NaN</td>\n",
              "      <td>2</td>\n",
              "      <td>NaN</td>\n",
              "      <td>2</td>\n",
              "      <td>NaN</td>\n",
              "      <td>2</td>\n",
              "      <td>NaN</td>\n",
              "      <td>2</td>\n",
              "      <td>NaN</td>\n",
              "    </tr>\n",
              "    <tr>\n",
              "      <th>top</th>\n",
              "      <td>negative</td>\n",
              "      <td>NaN</td>\n",
              "      <td>F</td>\n",
              "      <td>f</td>\n",
              "      <td>f</td>\n",
              "      <td>f</td>\n",
              "      <td>f</td>\n",
              "      <td>f</td>\n",
              "      <td>f</td>\n",
              "      <td>f</td>\n",
              "      <td>f</td>\n",
              "      <td>f</td>\n",
              "      <td>f</td>\n",
              "      <td>f</td>\n",
              "      <td>y</td>\n",
              "      <td>NaN</td>\n",
              "      <td>y</td>\n",
              "      <td>NaN</td>\n",
              "      <td>y</td>\n",
              "      <td>NaN</td>\n",
              "      <td>y</td>\n",
              "      <td>NaN</td>\n",
              "      <td>y</td>\n",
              "      <td>NaN</td>\n",
              "      <td>n</td>\n",
              "      <td>NaN</td>\n",
              "    </tr>\n",
              "    <tr>\n",
              "      <th>freq</th>\n",
              "      <td>2879</td>\n",
              "      <td>NaN</td>\n",
              "      <td>2057</td>\n",
              "      <td>2579</td>\n",
              "      <td>2955</td>\n",
              "      <td>2968</td>\n",
              "      <td>2908</td>\n",
              "      <td>2781</td>\n",
              "      <td>2783</td>\n",
              "      <td>2951</td>\n",
              "      <td>2915</td>\n",
              "      <td>2970</td>\n",
              "      <td>3008</td>\n",
              "      <td>2917</td>\n",
              "      <td>2567</td>\n",
              "      <td>NaN</td>\n",
              "      <td>2344</td>\n",
              "      <td>NaN</td>\n",
              "      <td>2778</td>\n",
              "      <td>NaN</td>\n",
              "      <td>2779</td>\n",
              "      <td>NaN</td>\n",
              "      <td>2780</td>\n",
              "      <td>NaN</td>\n",
              "      <td>2767</td>\n",
              "      <td>NaN</td>\n",
              "    </tr>\n",
              "    <tr>\n",
              "      <th>mean</th>\n",
              "      <td>NaN</td>\n",
              "      <td>51.080886</td>\n",
              "      <td>NaN</td>\n",
              "      <td>NaN</td>\n",
              "      <td>NaN</td>\n",
              "      <td>NaN</td>\n",
              "      <td>NaN</td>\n",
              "      <td>NaN</td>\n",
              "      <td>NaN</td>\n",
              "      <td>NaN</td>\n",
              "      <td>NaN</td>\n",
              "      <td>NaN</td>\n",
              "      <td>NaN</td>\n",
              "      <td>NaN</td>\n",
              "      <td>NaN</td>\n",
              "      <td>4.955405</td>\n",
              "      <td>NaN</td>\n",
              "      <td>1.899103</td>\n",
              "      <td>NaN</td>\n",
              "      <td>108.205615</td>\n",
              "      <td>NaN</td>\n",
              "      <td>0.975591</td>\n",
              "      <td>NaN</td>\n",
              "      <td>114.928870</td>\n",
              "      <td>NaN</td>\n",
              "      <td>27.311827</td>\n",
              "    </tr>\n",
              "    <tr>\n",
              "      <th>std</th>\n",
              "      <td>NaN</td>\n",
              "      <td>17.822409</td>\n",
              "      <td>NaN</td>\n",
              "      <td>NaN</td>\n",
              "      <td>NaN</td>\n",
              "      <td>NaN</td>\n",
              "      <td>NaN</td>\n",
              "      <td>NaN</td>\n",
              "      <td>NaN</td>\n",
              "      <td>NaN</td>\n",
              "      <td>NaN</td>\n",
              "      <td>NaN</td>\n",
              "      <td>NaN</td>\n",
              "      <td>NaN</td>\n",
              "      <td>NaN</td>\n",
              "      <td>22.373177</td>\n",
              "      <td>NaN</td>\n",
              "      <td>0.849570</td>\n",
              "      <td>NaN</td>\n",
              "      <td>41.965952</td>\n",
              "      <td>NaN</td>\n",
              "      <td>0.216208</td>\n",
              "      <td>NaN</td>\n",
              "      <td>57.755302</td>\n",
              "      <td>NaN</td>\n",
              "      <td>5.654772</td>\n",
              "    </tr>\n",
              "    <tr>\n",
              "      <th>min</th>\n",
              "      <td>NaN</td>\n",
              "      <td>1.000000</td>\n",
              "      <td>NaN</td>\n",
              "      <td>NaN</td>\n",
              "      <td>NaN</td>\n",
              "      <td>NaN</td>\n",
              "      <td>NaN</td>\n",
              "      <td>NaN</td>\n",
              "      <td>NaN</td>\n",
              "      <td>NaN</td>\n",
              "      <td>NaN</td>\n",
              "      <td>NaN</td>\n",
              "      <td>NaN</td>\n",
              "      <td>NaN</td>\n",
              "      <td>NaN</td>\n",
              "      <td>0.000000</td>\n",
              "      <td>NaN</td>\n",
              "      <td>0.000000</td>\n",
              "      <td>NaN</td>\n",
              "      <td>2.000000</td>\n",
              "      <td>NaN</td>\n",
              "      <td>0.200000</td>\n",
              "      <td>NaN</td>\n",
              "      <td>0.000000</td>\n",
              "      <td>NaN</td>\n",
              "      <td>0.000000</td>\n",
              "    </tr>\n",
              "    <tr>\n",
              "      <th>25%</th>\n",
              "      <td>NaN</td>\n",
              "      <td>38.000000</td>\n",
              "      <td>NaN</td>\n",
              "      <td>NaN</td>\n",
              "      <td>NaN</td>\n",
              "      <td>NaN</td>\n",
              "      <td>NaN</td>\n",
              "      <td>NaN</td>\n",
              "      <td>NaN</td>\n",
              "      <td>NaN</td>\n",
              "      <td>NaN</td>\n",
              "      <td>NaN</td>\n",
              "      <td>NaN</td>\n",
              "      <td>NaN</td>\n",
              "      <td>NaN</td>\n",
              "      <td>0.000000</td>\n",
              "      <td>NaN</td>\n",
              "      <td>1.500000</td>\n",
              "      <td>NaN</td>\n",
              "      <td>86.000000</td>\n",
              "      <td>NaN</td>\n",
              "      <td>0.860000</td>\n",
              "      <td>NaN</td>\n",
              "      <td>93.000000</td>\n",
              "      <td>NaN</td>\n",
              "      <td>27.000000</td>\n",
              "    </tr>\n",
              "    <tr>\n",
              "      <th>50%</th>\n",
              "      <td>NaN</td>\n",
              "      <td>51.154214</td>\n",
              "      <td>NaN</td>\n",
              "      <td>NaN</td>\n",
              "      <td>NaN</td>\n",
              "      <td>NaN</td>\n",
              "      <td>NaN</td>\n",
              "      <td>NaN</td>\n",
              "      <td>NaN</td>\n",
              "      <td>NaN</td>\n",
              "      <td>NaN</td>\n",
              "      <td>NaN</td>\n",
              "      <td>NaN</td>\n",
              "      <td>NaN</td>\n",
              "      <td>NaN</td>\n",
              "      <td>0.700000</td>\n",
              "      <td>NaN</td>\n",
              "      <td>1.800000</td>\n",
              "      <td>NaN</td>\n",
              "      <td>104.000000</td>\n",
              "      <td>NaN</td>\n",
              "      <td>0.960000</td>\n",
              "      <td>NaN</td>\n",
              "      <td>107.000000</td>\n",
              "      <td>NaN</td>\n",
              "      <td>27.000000</td>\n",
              "    </tr>\n",
              "    <tr>\n",
              "      <th>75%</th>\n",
              "      <td>NaN</td>\n",
              "      <td>64.000000</td>\n",
              "      <td>NaN</td>\n",
              "      <td>NaN</td>\n",
              "      <td>NaN</td>\n",
              "      <td>NaN</td>\n",
              "      <td>NaN</td>\n",
              "      <td>NaN</td>\n",
              "      <td>NaN</td>\n",
              "      <td>NaN</td>\n",
              "      <td>NaN</td>\n",
              "      <td>NaN</td>\n",
              "      <td>NaN</td>\n",
              "      <td>NaN</td>\n",
              "      <td>NaN</td>\n",
              "      <td>1.700000</td>\n",
              "      <td>NaN</td>\n",
              "      <td>2.200000</td>\n",
              "      <td>NaN</td>\n",
              "      <td>124.000000</td>\n",
              "      <td>NaN</td>\n",
              "      <td>1.050000</td>\n",
              "      <td>NaN</td>\n",
              "      <td>126.000000</td>\n",
              "      <td>NaN</td>\n",
              "      <td>27.000000</td>\n",
              "    </tr>\n",
              "    <tr>\n",
              "      <th>max</th>\n",
              "      <td>NaN</td>\n",
              "      <td>98.000000</td>\n",
              "      <td>NaN</td>\n",
              "      <td>NaN</td>\n",
              "      <td>NaN</td>\n",
              "      <td>NaN</td>\n",
              "      <td>NaN</td>\n",
              "      <td>NaN</td>\n",
              "      <td>NaN</td>\n",
              "      <td>NaN</td>\n",
              "      <td>NaN</td>\n",
              "      <td>NaN</td>\n",
              "      <td>NaN</td>\n",
              "      <td>NaN</td>\n",
              "      <td>NaN</td>\n",
              "      <td>530.000000</td>\n",
              "      <td>NaN</td>\n",
              "      <td>10.200000</td>\n",
              "      <td>NaN</td>\n",
              "      <td>450.000000</td>\n",
              "      <td>NaN</td>\n",
              "      <td>2.210000</td>\n",
              "      <td>NaN</td>\n",
              "      <td>881.000000</td>\n",
              "      <td>NaN</td>\n",
              "      <td>122.000000</td>\n",
              "    </tr>\n",
              "  </tbody>\n",
              "</table>\n",
              "</div>"
            ],
            "text/plain": [
              "          status          age   sex  ...          FTI TBG_measured          TBG\n",
              "count       3010  3010.000000  3010  ...  3010.000000         3010  3010.000000\n",
              "unique         2          NaN     3  ...          NaN            2          NaN\n",
              "top     negative          NaN     F  ...          NaN            n          NaN\n",
              "freq        2879          NaN  2057  ...          NaN         2767          NaN\n",
              "mean         NaN    51.080886   NaN  ...   114.928870          NaN    27.311827\n",
              "std          NaN    17.822409   NaN  ...    57.755302          NaN     5.654772\n",
              "min          NaN     1.000000   NaN  ...     0.000000          NaN     0.000000\n",
              "25%          NaN    38.000000   NaN  ...    93.000000          NaN    27.000000\n",
              "50%          NaN    51.154214   NaN  ...   107.000000          NaN    27.000000\n",
              "75%          NaN    64.000000   NaN  ...   126.000000          NaN    27.000000\n",
              "max          NaN    98.000000   NaN  ...   881.000000          NaN   122.000000\n",
              "\n",
              "[11 rows x 26 columns]"
            ]
          },
          "metadata": {
            "tags": []
          },
          "execution_count": 157
        }
      ]
    },
    {
      "cell_type": "code",
      "metadata": {
        "id": "waGFMFXQ3tz0",
        "colab_type": "code",
        "outputId": "9b31cebb-8d02-4ce9-e9f0-2b58818b1f9d",
        "colab": {
          "base_uri": "https://localhost:8080/",
          "height": 302
        }
      },
      "source": [
        "# distribution of the age column\n",
        "sns.distplot(df.age)"
      ],
      "execution_count": 158,
      "outputs": [
        {
          "output_type": "execute_result",
          "data": {
            "text/plain": [
              "<matplotlib.axes._subplots.AxesSubplot at 0x7fcd4b05a0b8>"
            ]
          },
          "metadata": {
            "tags": []
          },
          "execution_count": 158
        },
        {
          "output_type": "display_data",
          "data": {
            "image/png": "[encoded data removed]",
            "text/plain": [
              "<Figure size 432x288 with 1 Axes>"
            ]
          },
          "metadata": {
            "tags": []
          }
        }
      ]
    },
    {
      "cell_type": "markdown",
      "metadata": {
        "id": "TL3Ef_QXIBaW",
        "colab_type": "text"
      },
      "source": [
        "From the Histogram, the distribution of age is close no a normal distribution.\n",
        "\n",
        "It is also visible that most respondents were between age 55 and 60; the tallest bin."
      ]
    },
    {
      "cell_type": "code",
      "metadata": {
        "id": "LeO2Jcy-xYft",
        "colab_type": "code",
        "colab": {
          "base_uri": "https://localhost:8080/",
          "height": 1000
        },
        "outputId": "124e9475-a011-44b0-db0c-21794c024caf"
      },
      "source": [
        "# A pairplot\n",
        "# Here we want visualize scatter plots of features with the argument 'hue' \n",
        "# distinguishing when the condition (hpyothyroidism) is negative or postive\n",
        "\n",
        "measured = ['TSH','T3','TT4','T4U','FTI','TBG']\n",
        "\n",
        "sns.pairplot(df, kind=\"scatter\", diag_kind=\"kde\", vars=measured, hue=\"status\")\n",
        "plt.show()"
      ],
      "execution_count": 159,
      "outputs": [
        {
          "output_type": "display_data",
          "data": {
            "image/png": "[encoded data removed]",
            "text/plain": [
              "<Figure size 1186.22x1080 with 42 Axes>"
            ]
          },
          "metadata": {
            "tags": []
          }
        }
      ]
    },
    {
      "cell_type": "code",
      "metadata": {
        "id": "pHl6zh2aHRlc",
        "colab_type": "code",
        "colab": {
          "base_uri": "https://localhost:8080/",
          "height": 52
        },
        "outputId": "8e39cea6-e2b5-434d-b4f7-a22e53dd2d4e"
      },
      "source": [
        "# calculating age range\n",
        "min = df.age.min()\n",
        "max = df.age.max()\n",
        "age_range = max - min\n",
        "print(\"The youngest age is {}, the oldest age is {}.\".format(min, max))\n",
        "print(\"Therefore there's a range of {}\".format(age_range))"
      ],
      "execution_count": 160,
      "outputs": [
        {
          "output_type": "stream",
          "text": [
            "The youngest age is 1.0, the oldest age is 98.0.\n",
            "Therefore there's a range of 97.0\n"
          ],
          "name": "stdout"
        }
      ]
    },
    {
      "cell_type": "code",
      "metadata": {
        "id": "b83obroYHsV2",
        "colab_type": "code",
        "colab": {}
      },
      "source": [
        "# splitting age into 9 age groups using the following ranges:\n",
        "# 0-9, 10-18, 19-27, 28-36, 37-54, 55-63, 64-72, 73-81 and 82-99\n",
        "\n",
        "conditions = [\n",
        "    ((df.age >= 0) & (df.age <= 9)),\n",
        "    ((df.age >= 10) & (df.age <= 18)),\n",
        "    ((df.age >= 19) & (df.age <= 27)),\n",
        "    ((df.age >= 28) & (df.age <= 36)),\n",
        "    ((df.age >= 37) & (df.age <= 54)),\n",
        "    ((df.age >= 55) & (df.age <= 63)),\n",
        "    ((df.age >= 64) & (df.age <= 72)),\n",
        "    ((df.age >= 73) & (df.age <= 81)),\n",
        "    ((df.age >= 82) & (df.age <= 99))\n",
        "]\n",
        "choices = ['A', 'B', 'C', 'D', 'E', 'F', 'G', 'H', 'I']\n",
        "\n",
        "df['age_range'] = np.select(conditions, choices)"
      ],
      "execution_count": 0,
      "outputs": []
    },
    {
      "cell_type": "code",
      "metadata": {
        "id": "gJ_ofTa4H8Hy",
        "colab_type": "code",
        "colab": {
          "base_uri": "https://localhost:8080/",
          "height": 501
        },
        "outputId": "a5cc6a91-b7d5-4811-c543-b7ea712d906e"
      },
      "source": [
        "# plotting the age ranges in a pie chart\n",
        "df.age_range.value_counts().plot(kind = 'pie', autopct = '%0.1f%%',\n",
        "                                       figsize = [10, 8], subplots = True)"
      ],
      "execution_count": 162,
      "outputs": [
        {
          "output_type": "execute_result",
          "data": {
            "text/plain": [
              "array([<matplotlib.axes._subplots.AxesSubplot object at 0x7fcd4b05a940>],\n",
              "      dtype=object)"
            ]
          },
          "metadata": {
            "tags": []
          },
          "execution_count": 162
        },
        {
          "output_type": "display_data",
          "data": {
            "image/png": "[encoded data removed]",
            "text/plain": [
              "<Figure size 720x576 with 1 Axes>"
            ]
          },
          "metadata": {
            "tags": []
          }
        }
      ]
    },
    {
      "cell_type": "markdown",
      "metadata": {
        "id": "DUES5xxW5E2W",
        "colab_type": "text"
      },
      "source": [
        "From the pie chart above we can see that our category E "
      ]
    },
    {
      "cell_type": "code",
      "metadata": {
        "id": "OJJICMDdIYDn",
        "colab_type": "code",
        "colab": {
          "base_uri": "https://localhost:8080/",
          "height": 318
        },
        "outputId": "07906614-af48-4b1f-9a7b-c9f70261d510"
      },
      "source": [
        "# previewing the distribution of hypothyroidism across the age ranges\n",
        "df_age = sns.countplot('status', hue = 'age_range', data = df)\n",
        "df_age.set(title = \"Hypothyroidism per Age Range\", ylabel = \"Status\")"
      ],
      "execution_count": 163,
      "outputs": [
        {
          "output_type": "execute_result",
          "data": {
            "text/plain": [
              "[Text(0, 0.5, 'Status'), Text(0.5, 1.0, 'Hypothyroidism per Age Range')]"
            ]
          },
          "metadata": {
            "tags": []
          },
          "execution_count": 163
        },
        {
          "output_type": "display_data",
          "data": {
            "image/png": "[encoded data removed]",
            "text/plain": [
              "<Figure size 432x288 with 1 Axes>"
            ]
          },
          "metadata": {
            "tags": []
          }
        }
      ]
    },
    {
      "cell_type": "code",
      "metadata": {
        "id": "gQ805MmHKeug",
        "colab_type": "code",
        "colab": {
          "base_uri": "https://localhost:8080/",
          "height": 123
        },
        "outputId": "afed636b-f12f-45d7-d45f-0ac18be4538c"
      },
      "source": [
        "# hypothyroidism per pregnancy status\n",
        "df.groupby('status').pregnant.value_counts()"
      ],
      "execution_count": 164,
      "outputs": [
        {
          "output_type": "execute_result",
          "data": {
            "text/plain": [
              "status       pregnant\n",
              "hypothyroid  f            130\n",
              "             t              1\n",
              "negative     f           2821\n",
              "             t             58\n",
              "Name: pregnant, dtype: int64"
            ]
          },
          "metadata": {
            "tags": []
          },
          "execution_count": 164
        }
      ]
    },
    {
      "cell_type": "markdown",
      "metadata": {
        "id": "tiWSxpYWKjZt",
        "colab_type": "text"
      },
      "source": [
        "\n",
        "Of the 61 pregnant women in our dataset, only 1 had hypothyroidism. Not only is this not generalizable, it is also too biased in determining whether pregnancy is a factor influencing hypothyroidism."
      ]
    },
    {
      "cell_type": "markdown",
      "metadata": {
        "id": "MP7wLcMK5_TB",
        "colab_type": "text"
      },
      "source": [
        "# Random Forest"
      ]
    },
    {
      "cell_type": "code",
      "metadata": {
        "id": "e7p0uEWD6Tid",
        "colab_type": "code",
        "outputId": "b77a26be-d929-4cab-bcdb-db59f7b125d7",
        "colab": {
          "base_uri": "https://localhost:8080/",
          "height": 52
        }
      },
      "source": [
        "# splitting our data into features & labels\n",
        "X = df.drop(columns = ['status']).values\n",
        "y = df.status.values\n",
        "\n",
        "# getting our feature names\n",
        "features = df.columns.to_list()\n",
        "features.remove('status')\n",
        "\n",
        "print(X.shape)\n",
        "print(y.shape)"
      ],
      "execution_count": 165,
      "outputs": [
        {
          "output_type": "stream",
          "text": [
            "(3010, 26)\n",
            "(3010,)\n"
          ],
          "name": "stdout"
        }
      ]
    },
    {
      "cell_type": "code",
      "metadata": {
        "id": "XgcdjJoJ8jXo",
        "colab_type": "code",
        "colab": {}
      },
      "source": [
        "# \n",
        "X = df.drop('status', axis=1)\n",
        "X = pd.get_dummies(X)\n",
        "y = df.status.cat.codes\n",
        "train_features = X"
      ],
      "execution_count": 0,
      "outputs": []
    },
    {
      "cell_type": "code",
      "metadata": {
        "id": "6MB4yIFK65RN",
        "colab_type": "code",
        "colab": {}
      },
      "source": [
        "# splitting into training & test data\n",
        "from sklearn.model_selection import train_test_split \n",
        "\n",
        "X_train, X_test, y_train, y_test = train_test_split(X, y, test_size = 0.2, random_state = 0)"
      ],
      "execution_count": 0,
      "outputs": []
    },
    {
      "cell_type": "code",
      "metadata": {
        "id": "1toiX-w87aGQ",
        "colab_type": "code",
        "colab": {}
      },
      "source": [
        "# importing the random forest regressor\n",
        "from sklearn.ensemble import RandomForestClassifier\n",
        "\n",
        "forest = RandomForestClassifier(n_estimators = 200, min_samples_split = 20,\n",
        "                              max_depth = 5)\n",
        "\n",
        "# fitting our model to our training data\n",
        "forest.fit(X_train, y_train)\n",
        "\n",
        "# make predictions using our forest\n",
        "y_pred = forest.predict(X_test)"
      ],
      "execution_count": 0,
      "outputs": []
    },
    {
      "cell_type": "code",
      "metadata": {
        "id": "IOc0snNY7eP_",
        "colab_type": "code",
        "outputId": "0e4095d9-779d-460a-ff66-12bd0156deb9",
        "colab": {
          "base_uri": "https://localhost:8080/",
          "height": 287
        }
      },
      "source": [
        "# compare actual values with predicted values\n",
        "compare = pd.DataFrame({'Actual' : y_test, 'Predicted' : y_pred})\n",
        "\n",
        "# previewing our summary statistics\n",
        "compare.describe()"
      ],
      "execution_count": 169,
      "outputs": [
        {
          "output_type": "execute_result",
          "data": {
            "text/html": [
              "<div>\n",
              "<style scoped>\n",
              "    .dataframe tbody tr th:only-of-type {\n",
              "        vertical-align: middle;\n",
              "    }\n",
              "\n",
              "    .dataframe tbody tr th {\n",
              "        vertical-align: top;\n",
              "    }\n",
              "\n",
              "    .dataframe thead th {\n",
              "        text-align: right;\n",
              "    }\n",
              "</style>\n",
              "<table border=\"1\" class=\"dataframe\">\n",
              "  <thead>\n",
              "    <tr style=\"text-align: right;\">\n",
              "      <th></th>\n",
              "      <th>Actual</th>\n",
              "      <th>Predicted</th>\n",
              "    </tr>\n",
              "  </thead>\n",
              "  <tbody>\n",
              "    <tr>\n",
              "      <th>count</th>\n",
              "      <td>602.000000</td>\n",
              "      <td>602.000000</td>\n",
              "    </tr>\n",
              "    <tr>\n",
              "      <th>mean</th>\n",
              "      <td>0.961794</td>\n",
              "      <td>0.975083</td>\n",
              "    </tr>\n",
              "    <tr>\n",
              "      <th>std</th>\n",
              "      <td>0.191853</td>\n",
              "      <td>0.156002</td>\n",
              "    </tr>\n",
              "    <tr>\n",
              "      <th>min</th>\n",
              "      <td>0.000000</td>\n",
              "      <td>0.000000</td>\n",
              "    </tr>\n",
              "    <tr>\n",
              "      <th>25%</th>\n",
              "      <td>1.000000</td>\n",
              "      <td>1.000000</td>\n",
              "    </tr>\n",
              "    <tr>\n",
              "      <th>50%</th>\n",
              "      <td>1.000000</td>\n",
              "      <td>1.000000</td>\n",
              "    </tr>\n",
              "    <tr>\n",
              "      <th>75%</th>\n",
              "      <td>1.000000</td>\n",
              "      <td>1.000000</td>\n",
              "    </tr>\n",
              "    <tr>\n",
              "      <th>max</th>\n",
              "      <td>1.000000</td>\n",
              "      <td>1.000000</td>\n",
              "    </tr>\n",
              "  </tbody>\n",
              "</table>\n",
              "</div>"
            ],
            "text/plain": [
              "           Actual   Predicted\n",
              "count  602.000000  602.000000\n",
              "mean     0.961794    0.975083\n",
              "std      0.191853    0.156002\n",
              "min      0.000000    0.000000\n",
              "25%      1.000000    1.000000\n",
              "50%      1.000000    1.000000\n",
              "75%      1.000000    1.000000\n",
              "max      1.000000    1.000000"
            ]
          },
          "metadata": {
            "tags": []
          },
          "execution_count": 169
        }
      ]
    },
    {
      "cell_type": "markdown",
      "metadata": {
        "id": "2kKkxNCM-EhR",
        "colab_type": "text"
      },
      "source": [
        "Our model seems to have done a good job at making the predictions as seen by how close the summary statistics of the predicted values are to the those of the actual values. Let us properly and accurately assess the accuracy of the model using the sklearn metrics."
      ]
    },
    {
      "cell_type": "code",
      "metadata": {
        "id": "dHONWUc79cld",
        "colab_type": "code",
        "outputId": "ca11165d-6996-4e30-dbc2-99c3559f0981",
        "colab": {
          "base_uri": "https://localhost:8080/",
          "height": 70
        }
      },
      "source": [
        "from sklearn import metrics\n",
        "\n",
        "print('Mean Absolute Error:', metrics.mean_absolute_error(y_test, y_pred))  \n",
        "print('Mean Squared Error:', metrics.mean_squared_error(y_test, y_pred))  \n",
        "print('Root Mean Squared Error:', np.sqrt(metrics.mean_squared_error(y_test, y_pred)))"
      ],
      "execution_count": 170,
      "outputs": [
        {
          "output_type": "stream",
          "text": [
            "Mean Absolute Error: 0.013289036544850499\n",
            "Mean Squared Error: 0.013289036544850499\n",
            "Root Mean Squared Error: 0.115278083540847\n"
          ],
          "name": "stdout"
        }
      ]
    },
    {
      "cell_type": "code",
      "metadata": {
        "colab_type": "code",
        "id": "rqirwDzFN8Vr",
        "colab": {
          "base_uri": "https://localhost:8080/",
          "height": 105
        },
        "outputId": "de726eb7-3b38-4c43-93f4-c6706dd54f7e"
      },
      "source": [
        "from sklearn.metrics import f1_score,r2_score\n",
        "print(\"R2 score : %.2f\" % r2_score(y_test,y_pred))\n",
        "print('accuracy_score:',accuracy_score (y_test , y_pred))\n",
        "\n",
        "#computing the F1 score since the data is unbalanced\n",
        "print('F1_score, average = micro:',f1_score(y_test, y_pred, average='micro'))\n",
        "print('F1_score, average = macro:',f1_score(y_test, y_pred, average='macro'))\n",
        "print('F1_score, average = weighted:',f1_score(y_test, y_pred, average='weighted'))"
      ],
      "execution_count": 171,
      "outputs": [
        {
          "output_type": "stream",
          "text": [
            "R2 score : 0.64\n",
            "accuracy_score: 0.9867109634551495\n",
            "F1_score, average = micro: 0.9867109634551495\n",
            "F1_score, average = macro: 0.8913063103728447\n",
            "F1_score, average = weighted: 0.9853577059646204\n"
          ],
          "name": "stdout"
        }
      ]
    },
    {
      "cell_type": "markdown",
      "metadata": {
        "id": "mkrqqai_OPEe",
        "colab_type": "text"
      },
      "source": [
        "Our MSE and RMSE values are very small meaning our model has done a really good job.\n",
        "\n",
        "0.9867109634551495  \n",
        "The model is 98% accurate.\n",
        "\n",
        "This model is too good. It could be overfitting.\n",
        "\n",
        "We now want to see what tree number 23 looks like."
      ]
    },
    {
      "cell_type": "code",
      "metadata": {
        "id": "m4grafEk-J9J",
        "colab_type": "code",
        "outputId": "003fb9ad-de58-441b-865c-d49768cef9a7",
        "colab": {
          "base_uri": "https://localhost:8080/",
          "height": 812
        }
      },
      "source": [
        "from sklearn.tree import export_graphviz\n",
        "from sklearn.externals.six import StringIO  \n",
        "from IPython.display import Image  \n",
        "import pydotplus\n",
        "\n",
        "y_pred = forest.predict(X_test)\n",
        "dot_data = StringIO()\n",
        "\n",
        "# picks a specific tree from the forest\n",
        "tree = forest.estimators_[22]\n",
        "\n",
        "export_graphviz(tree, out_file = dot_data, filled = True, rounded = True,\n",
        "                special_characters = True, feature_names = X.columns)\n",
        "graph = pydotplus.graph_from_dot_data(dot_data.getvalue())  \n",
        "graph.write_png('hypothyroid.png')\n",
        "Image(graph.create_png())"
      ],
      "execution_count": 172,
      "outputs": [
        {
          "output_type": "execute_result",
          "data": {
            "image/png": "[encoded data removed]",
            "text/plain": [
              "<IPython.core.display.Image object>"
            ]
          },
          "metadata": {
            "tags": []
          },
          "execution_count": 172
        }
      ]
    },
    {
      "cell_type": "code",
      "metadata": {
        "id": "hVIbppsa-h4e",
        "colab_type": "code",
        "outputId": "1cccb2e4-daf1-475c-ee27-32a57387b2b1",
        "colab": {
          "base_uri": "https://localhost:8080/",
          "height": 478
        }
      },
      "source": [
        "# to get the importance levels of our features\n",
        "importances = list(tree.feature_importances_)\n",
        "feature_importances = [(feature, round(importance, 2)) for feature, importance \n",
        "                       in zip(features, importances)]\n",
        "\n",
        "# sort in descending order\n",
        "feature_importances = sorted(feature_importances, key = lambda x: x[1], \n",
        "                             reverse = True)\n",
        "feature_importances"
      ],
      "execution_count": 173,
      "outputs": [
        {
          "output_type": "execute_result",
          "data": {
            "text/plain": [
              "[('thyroid_surgery', 0.92),\n",
              " ('query_on_thyroxine', 0.04),\n",
              " ('T4U_measured', 0.02),\n",
              " ('age', 0.01),\n",
              " ('sex', 0.0),\n",
              " ('on_thyroxine', 0.0),\n",
              " ('on_antithyroid_medication', 0.0),\n",
              " ('query_hypothyroid', 0.0),\n",
              " ('query_hyperthyroid', 0.0),\n",
              " ('pregnant', 0.0),\n",
              " ('sick', 0.0),\n",
              " ('tumor', 0.0),\n",
              " ('lithium', 0.0),\n",
              " ('goitre', 0.0),\n",
              " ('TSH_measured', 0.0),\n",
              " ('TSH', 0.0),\n",
              " ('T3_measured', 0.0),\n",
              " ('T3', 0.0),\n",
              " ('TT4_measured', 0.0),\n",
              " ('TT4', 0.0),\n",
              " ('T4U', 0.0),\n",
              " ('FTI_measured', 0.0),\n",
              " ('FTI', 0.0),\n",
              " ('TBG_measured', 0.0),\n",
              " ('TBG', 0.0),\n",
              " ('age_range', 0.0)]"
            ]
          },
          "metadata": {
            "tags": []
          },
          "execution_count": 173
        }
      ]
    },
    {
      "cell_type": "markdown",
      "metadata": {
        "id": "QeuOMwhE-rPE",
        "colab_type": "text"
      },
      "source": [
        "## AdaBoost"
      ]
    },
    {
      "cell_type": "markdown",
      "metadata": {
        "id": "jpkYdD5KmHMJ",
        "colab_type": "text"
      },
      "source": [
        "AdaBoost, short for Adaptive Boosting.\n",
        "\n",
        "AdaBoost rarely suffers from overfitting problems in low noise data cases.\n",
        "\n",
        "However, recent studies with highly noisy patterns have clearly shown that overfitting can occur.\n",
        "\n",
        "Ada-boost, like Random Forest Classifier is another ensemble classifier.\n",
        "\n",
        "(Ensemble classifier are made up of multiple classifier algorithms and whose output is combined result of output of those classifier algorithms).\n",
        "\n",
        "-Parameters to tune\n",
        "- Parameters of one initial tree\n",
        "- Number of trees to create"
      ]
    },
    {
      "cell_type": "code",
      "metadata": {
        "id": "GBn3SpQl-tuW",
        "colab_type": "code",
        "outputId": "1e636890-af03-41e3-ab71-c3c2e1835c16",
        "colab": {
          "base_uri": "https://localhost:8080/",
          "height": 287
        }
      },
      "source": [
        "from sklearn.tree import DecisionTreeClassifier\n",
        "\n",
        "decision_tree = DecisionTreeClassifier(max_depth = 5)\n",
        "\n",
        "# training our model on our training data\n",
        "decision_tree = decision_tree.fit(X_train, y_train)\n",
        "\n",
        "# making predictions on the test data\n",
        "decision_y_pred = decision_tree.predict(X_test)\n",
        "\n",
        "# comparing actual values to predicted values\n",
        "decision_compare = pd.DataFrame({'Actual' : y_test ,'Predicted' : decision_y_pred})\n",
        "\n",
        "# previewing our summary statistics\n",
        "decision_compare.describe()"
      ],
      "execution_count": 174,
      "outputs": [
        {
          "output_type": "execute_result",
          "data": {
            "text/html": [
              "<div>\n",
              "<style scoped>\n",
              "    .dataframe tbody tr th:only-of-type {\n",
              "        vertical-align: middle;\n",
              "    }\n",
              "\n",
              "    .dataframe tbody tr th {\n",
              "        vertical-align: top;\n",
              "    }\n",
              "\n",
              "    .dataframe thead th {\n",
              "        text-align: right;\n",
              "    }\n",
              "</style>\n",
              "<table border=\"1\" class=\"dataframe\">\n",
              "  <thead>\n",
              "    <tr style=\"text-align: right;\">\n",
              "      <th></th>\n",
              "      <th>Actual</th>\n",
              "      <th>Predicted</th>\n",
              "    </tr>\n",
              "  </thead>\n",
              "  <tbody>\n",
              "    <tr>\n",
              "      <th>count</th>\n",
              "      <td>602.000000</td>\n",
              "      <td>602.000000</td>\n",
              "    </tr>\n",
              "    <tr>\n",
              "      <th>mean</th>\n",
              "      <td>0.961794</td>\n",
              "      <td>0.961794</td>\n",
              "    </tr>\n",
              "    <tr>\n",
              "      <th>std</th>\n",
              "      <td>0.191853</td>\n",
              "      <td>0.191853</td>\n",
              "    </tr>\n",
              "    <tr>\n",
              "      <th>min</th>\n",
              "      <td>0.000000</td>\n",
              "      <td>0.000000</td>\n",
              "    </tr>\n",
              "    <tr>\n",
              "      <th>25%</th>\n",
              "      <td>1.000000</td>\n",
              "      <td>1.000000</td>\n",
              "    </tr>\n",
              "    <tr>\n",
              "      <th>50%</th>\n",
              "      <td>1.000000</td>\n",
              "      <td>1.000000</td>\n",
              "    </tr>\n",
              "    <tr>\n",
              "      <th>75%</th>\n",
              "      <td>1.000000</td>\n",
              "      <td>1.000000</td>\n",
              "    </tr>\n",
              "    <tr>\n",
              "      <th>max</th>\n",
              "      <td>1.000000</td>\n",
              "      <td>1.000000</td>\n",
              "    </tr>\n",
              "  </tbody>\n",
              "</table>\n",
              "</div>"
            ],
            "text/plain": [
              "           Actual   Predicted\n",
              "count  602.000000  602.000000\n",
              "mean     0.961794    0.961794\n",
              "std      0.191853    0.191853\n",
              "min      0.000000    0.000000\n",
              "25%      1.000000    1.000000\n",
              "50%      1.000000    1.000000\n",
              "75%      1.000000    1.000000\n",
              "max      1.000000    1.000000"
            ]
          },
          "metadata": {
            "tags": []
          },
          "execution_count": 174
        }
      ]
    },
    {
      "cell_type": "code",
      "metadata": {
        "id": "sK35Ls_O_MOm",
        "colab_type": "code",
        "outputId": "0c1b3664-acf9-4fd4-d10e-a70421867b66",
        "colab": {
          "base_uri": "https://localhost:8080/",
          "height": 287
        }
      },
      "source": [
        "from sklearn.ensemble import AdaBoostClassifier\n",
        "\n",
        "# creating our classifier with 200 trees of depth 1\n",
        "ada_reg = AdaBoostClassifier(DecisionTreeClassifier(max_depth = 1), \n",
        "                            n_estimators = 200)\n",
        "\n",
        "# fitting our model to our training data\n",
        "ada_reg.fit(X_train, y_train)\n",
        "\n",
        "# making predictions\n",
        "ada_reg_y_pred = ada_reg.predict(X_test)\n",
        "\n",
        "# comparing actual values to predicted values\n",
        "ada_reg_compare = pd.DataFrame({'Actual' : y_test , 'Predicted' : ada_reg_y_pred})\n",
        "\n",
        "# previewing our summary statistics\n",
        "ada_reg_compare.describe()"
      ],
      "execution_count": 175,
      "outputs": [
        {
          "output_type": "execute_result",
          "data": {
            "text/html": [
              "<div>\n",
              "<style scoped>\n",
              "    .dataframe tbody tr th:only-of-type {\n",
              "        vertical-align: middle;\n",
              "    }\n",
              "\n",
              "    .dataframe tbody tr th {\n",
              "        vertical-align: top;\n",
              "    }\n",
              "\n",
              "    .dataframe thead th {\n",
              "        text-align: right;\n",
              "    }\n",
              "</style>\n",
              "<table border=\"1\" class=\"dataframe\">\n",
              "  <thead>\n",
              "    <tr style=\"text-align: right;\">\n",
              "      <th></th>\n",
              "      <th>Actual</th>\n",
              "      <th>Predicted</th>\n",
              "    </tr>\n",
              "  </thead>\n",
              "  <tbody>\n",
              "    <tr>\n",
              "      <th>count</th>\n",
              "      <td>602.000000</td>\n",
              "      <td>602.000000</td>\n",
              "    </tr>\n",
              "    <tr>\n",
              "      <th>mean</th>\n",
              "      <td>0.961794</td>\n",
              "      <td>0.963455</td>\n",
              "    </tr>\n",
              "    <tr>\n",
              "      <th>std</th>\n",
              "      <td>0.191853</td>\n",
              "      <td>0.187798</td>\n",
              "    </tr>\n",
              "    <tr>\n",
              "      <th>min</th>\n",
              "      <td>0.000000</td>\n",
              "      <td>0.000000</td>\n",
              "    </tr>\n",
              "    <tr>\n",
              "      <th>25%</th>\n",
              "      <td>1.000000</td>\n",
              "      <td>1.000000</td>\n",
              "    </tr>\n",
              "    <tr>\n",
              "      <th>50%</th>\n",
              "      <td>1.000000</td>\n",
              "      <td>1.000000</td>\n",
              "    </tr>\n",
              "    <tr>\n",
              "      <th>75%</th>\n",
              "      <td>1.000000</td>\n",
              "      <td>1.000000</td>\n",
              "    </tr>\n",
              "    <tr>\n",
              "      <th>max</th>\n",
              "      <td>1.000000</td>\n",
              "      <td>1.000000</td>\n",
              "    </tr>\n",
              "  </tbody>\n",
              "</table>\n",
              "</div>"
            ],
            "text/plain": [
              "           Actual   Predicted\n",
              "count  602.000000  602.000000\n",
              "mean     0.961794    0.963455\n",
              "std      0.191853    0.187798\n",
              "min      0.000000    0.000000\n",
              "25%      1.000000    1.000000\n",
              "50%      1.000000    1.000000\n",
              "75%      1.000000    1.000000\n",
              "max      1.000000    1.000000"
            ]
          },
          "metadata": {
            "tags": []
          },
          "execution_count": 175
        }
      ]
    },
    {
      "cell_type": "code",
      "metadata": {
        "id": "johCCSqk_UTA",
        "colab_type": "code",
        "outputId": "355ed4fc-bf4b-4545-8262-29a4a604bd11",
        "colab": {
          "base_uri": "https://localhost:8080/",
          "height": 70
        }
      },
      "source": [
        "# evaluating accuracy\n",
        "print('Mean Absolute Error:', metrics.mean_absolute_error(y_test, ada_reg_y_pred))  \n",
        "print('Mean Squared Error:', metrics.mean_squared_error(y_test, ada_reg_y_pred))  \n",
        "print('Root Mean Squared Error:', np.sqrt(metrics.mean_squared_error(y_test, ada_reg_y_pred)))"
      ],
      "execution_count": 176,
      "outputs": [
        {
          "output_type": "stream",
          "text": [
            "Mean Absolute Error: 0.008305647840531562\n",
            "Mean Squared Error: 0.008305647840531562\n",
            "Root Mean Squared Error: 0.09113532707206115\n"
          ],
          "name": "stdout"
        }
      ]
    },
    {
      "cell_type": "code",
      "metadata": {
        "id": "EtABTycWPo4U",
        "colab_type": "code",
        "colab": {
          "base_uri": "https://localhost:8080/",
          "height": 105
        },
        "outputId": "bf2b7651-6dfb-4829-c57b-ee966e8203a0"
      },
      "source": [
        "from sklearn.metrics import f1_score,r2_score\n",
        "print(\"R2 score : %.2f\" % r2_score(y_test,ada_reg_y_pred))\n",
        "print('accuracy_score:',accuracy_score (y_test , ada_reg_y_pred))\n",
        "\n",
        "#computing the F1 score since the data is unbalanced\n",
        "print('F1_score, average = micro:',f1_score(y_test, ada_reg_y_pred, average='micro'))\n",
        "print('F1_score, average = macro:',f1_score(y_test, ada_reg_y_pred, average='macro'))\n",
        "print('F1_score, average = weighted:',f1_score(y_test, ada_reg_y_pred, average='weighted'))"
      ],
      "execution_count": 177,
      "outputs": [
        {
          "output_type": "stream",
          "text": [
            "R2 score : 0.77\n",
            "accuracy_score: 0.9916943521594684\n",
            "F1_score, average = micro: 0.9916943521594684\n",
            "F1_score, average = macro: 0.942287412520372\n",
            "F1_score, average = weighted: 0.991605650292971\n"
          ],
          "name": "stdout"
        }
      ]
    },
    {
      "cell_type": "markdown",
      "metadata": {
        "id": "fSCoUIeWczoW",
        "colab_type": "text"
      },
      "source": [
        "The model yielded 99.1% accuracy slightly higher than Random Forest Classifier model. But still this might be overfitting."
      ]
    },
    {
      "cell_type": "markdown",
      "metadata": {
        "id": "LtxqapBi_Y8_",
        "colab_type": "text"
      },
      "source": [
        "## Gradient Boosting"
      ]
    },
    {
      "cell_type": "markdown",
      "metadata": {
        "id": "Za_kw6B-mTEy",
        "colab_type": "text"
      },
      "source": [
        "Gradient boosting is a machine learning technique for regression and classification problems, which produces a prediction model in the form of an ensemble of weak prediction models, typically decision trees.\n",
        "\n",
        "Gradient boosting is a greedy algorithm and can overfit a training dataset quickly.\n",
        "\n",
        "It can benefit from regularization methods that penalize various parts of the algorithm and generally improve the performance of the algorithm by reducing overfitting.\n",
        "\n",
        "Parameters to tune;\n",
        "\n",
        "- Maximum depth\n",
        "- Minimum sample splits\n",
        "- Node creation factor\n",
        "- Learning rate\n",
        "- Number of trees to create"
      ]
    },
    {
      "cell_type": "code",
      "metadata": {
        "id": "XG3OJs35_Uxe",
        "colab_type": "code",
        "outputId": "997b6f87-055f-4a22-bd5b-0213bef4b37d",
        "colab": {
          "base_uri": "https://localhost:8080/",
          "height": 390
        }
      },
      "source": [
        "from sklearn.ensemble import GradientBoostingClassifier\n",
        "\n",
        "# setting different learning rates, so that we can compare the performance of \n",
        "# the classifier's performance at different learning rates\n",
        "lr_list = [0.05, 0.075, 0.1, 0.25, 0.5, 0.75, 1]\n",
        "\n",
        "for learning_rate in lr_list:\n",
        "    grad = GradientBoostingClassifier(n_estimators = 200, max_depth = 2,\n",
        "                                     learning_rate = learning_rate,\n",
        "                                     random_state = 0)\n",
        "    grad.fit(X_train, y_train)\n",
        "\n",
        "    print(\"Learning rate:\", learning_rate)\n",
        "    print(\"Accuracy score (training): {0:.3f}\".format(grad.score(X_train,y_train)))                                                               \n",
        "    print(\"Accuracy score (validation): {0:.3f}\".format(grad.score(X_test,y_test)))                                                                "
      ],
      "execution_count": 178,
      "outputs": [
        {
          "output_type": "stream",
          "text": [
            "Learning rate: 0.05\n",
            "Accuracy score (training): 0.997\n",
            "Accuracy score (validation): 0.992\n",
            "Learning rate: 0.075\n",
            "Accuracy score (training): 0.998\n",
            "Accuracy score (validation): 0.992\n",
            "Learning rate: 0.1\n",
            "Accuracy score (training): 0.999\n",
            "Accuracy score (validation): 0.988\n",
            "Learning rate: 0.25\n",
            "Accuracy score (training): 1.000\n",
            "Accuracy score (validation): 0.988\n",
            "Learning rate: 0.5\n",
            "Accuracy score (training): 1.000\n",
            "Accuracy score (validation): 0.988\n",
            "Learning rate: 0.75\n",
            "Accuracy score (training): 0.968\n",
            "Accuracy score (validation): 0.968\n",
            "Learning rate: 1\n",
            "Accuracy score (training): 0.966\n",
            "Accuracy score (validation): 0.975\n"
          ],
          "name": "stdout"
        }
      ]
    },
    {
      "cell_type": "markdown",
      "metadata": {
        "id": "6bkOBJhO_pEi",
        "colab_type": "text"
      },
      "source": [
        "We can see that a learning rate of 0.1 gives us the best performance when it comes to validating, and good performance when it comes to training so we will use it as our parameter."
      ]
    },
    {
      "cell_type": "code",
      "metadata": {
        "id": "SaOZmz50_pxq",
        "colab_type": "code",
        "outputId": "711c2f61-4b9a-43c3-83fb-3ae2acd3a8e5",
        "colab": {
          "base_uri": "https://localhost:8080/",
          "height": 287
        }
      },
      "source": [
        "# now to use our selected learning rate to model\n",
        "grad2 = GradientBoostingClassifier(n_estimators = 200, max_depth = 2, \n",
        "                                  learning_rate = 0.1, random_state = 0)\n",
        "\n",
        "# fitting to training data\n",
        "grad2.fit(X_train, y_train)\n",
        "\n",
        "# making predictions\n",
        "grad2_y_pred = grad2.predict(X_test)\n",
        "\n",
        "# comparing actual values to predicted values\n",
        "grad2_compare = pd.DataFrame({'Actual' : y_test,'Predicted' : grad2_y_pred})\n",
        "                        \n",
        "# previewing our summary statistics\n",
        "grad2_compare.describe()"
      ],
      "execution_count": 179,
      "outputs": [
        {
          "output_type": "execute_result",
          "data": {
            "text/html": [
              "<div>\n",
              "<style scoped>\n",
              "    .dataframe tbody tr th:only-of-type {\n",
              "        vertical-align: middle;\n",
              "    }\n",
              "\n",
              "    .dataframe tbody tr th {\n",
              "        vertical-align: top;\n",
              "    }\n",
              "\n",
              "    .dataframe thead th {\n",
              "        text-align: right;\n",
              "    }\n",
              "</style>\n",
              "<table border=\"1\" class=\"dataframe\">\n",
              "  <thead>\n",
              "    <tr style=\"text-align: right;\">\n",
              "      <th></th>\n",
              "      <th>Actual</th>\n",
              "      <th>Predicted</th>\n",
              "    </tr>\n",
              "  </thead>\n",
              "  <tbody>\n",
              "    <tr>\n",
              "      <th>count</th>\n",
              "      <td>602.000000</td>\n",
              "      <td>602.000000</td>\n",
              "    </tr>\n",
              "    <tr>\n",
              "      <th>mean</th>\n",
              "      <td>0.961794</td>\n",
              "      <td>0.966777</td>\n",
              "    </tr>\n",
              "    <tr>\n",
              "      <th>std</th>\n",
              "      <td>0.191853</td>\n",
              "      <td>0.179366</td>\n",
              "    </tr>\n",
              "    <tr>\n",
              "      <th>min</th>\n",
              "      <td>0.000000</td>\n",
              "      <td>0.000000</td>\n",
              "    </tr>\n",
              "    <tr>\n",
              "      <th>25%</th>\n",
              "      <td>1.000000</td>\n",
              "      <td>1.000000</td>\n",
              "    </tr>\n",
              "    <tr>\n",
              "      <th>50%</th>\n",
              "      <td>1.000000</td>\n",
              "      <td>1.000000</td>\n",
              "    </tr>\n",
              "    <tr>\n",
              "      <th>75%</th>\n",
              "      <td>1.000000</td>\n",
              "      <td>1.000000</td>\n",
              "    </tr>\n",
              "    <tr>\n",
              "      <th>max</th>\n",
              "      <td>1.000000</td>\n",
              "      <td>1.000000</td>\n",
              "    </tr>\n",
              "  </tbody>\n",
              "</table>\n",
              "</div>"
            ],
            "text/plain": [
              "           Actual   Predicted\n",
              "count  602.000000  602.000000\n",
              "mean     0.961794    0.966777\n",
              "std      0.191853    0.179366\n",
              "min      0.000000    0.000000\n",
              "25%      1.000000    1.000000\n",
              "50%      1.000000    1.000000\n",
              "75%      1.000000    1.000000\n",
              "max      1.000000    1.000000"
            ]
          },
          "metadata": {
            "tags": []
          },
          "execution_count": 179
        }
      ]
    },
    {
      "cell_type": "markdown",
      "metadata": {
        "id": "P0DsUXEk_746",
        "colab_type": "text"
      },
      "source": [
        "Our model seems to have performed so well there is some level of overfitting. We will now assess its metrics."
      ]
    },
    {
      "cell_type": "code",
      "metadata": {
        "id": "sJRMVW1n_xq6",
        "colab_type": "code",
        "outputId": "d00d1ef3-3e9a-470f-8776-97c6d2323a9d",
        "colab": {
          "base_uri": "https://localhost:8080/",
          "height": 70
        }
      },
      "source": [
        "# evaluating accuracy\n",
        "print('Mean Absolute Error:', metrics.mean_absolute_error(y_test, grad2_y_pred))  \n",
        "print('Mean Squared Error:', metrics.mean_squared_error(y_test, grad2_y_pred))  \n",
        "print('Root Mean Squared Error:', np.sqrt(metrics.mean_squared_error(y_test, grad2_y_pred)))"
      ],
      "execution_count": 180,
      "outputs": [
        {
          "output_type": "stream",
          "text": [
            "Mean Absolute Error: 0.011627906976744186\n",
            "Mean Squared Error: 0.011627906976744186\n",
            "Root Mean Squared Error: 0.10783277320343841\n"
          ],
          "name": "stdout"
        }
      ]
    },
    {
      "cell_type": "markdown",
      "metadata": {
        "id": "vaRB3dDIAG31",
        "colab_type": "text"
      },
      "source": [
        "Our RMSE is low, indicating that our random forest model is performing really well."
      ]
    },
    {
      "cell_type": "code",
      "metadata": {
        "id": "RyccnY0pQsy5",
        "colab_type": "code",
        "colab": {
          "base_uri": "https://localhost:8080/",
          "height": 105
        },
        "outputId": "1efb956b-d314-4b0c-d274-45eb24e84d23"
      },
      "source": [
        "from sklearn.metrics import f1_score,r2_score\n",
        "print(\"R2 score : %.2f\" % r2_score(y_test,grad2_y_pred))\n",
        "print('accuracy_score:',accuracy_score (y_test , grad2_y_pred))\n",
        "\n",
        "#computing the F1 score since the data is unbalanced\n",
        "print('F1_score, average = micro:',f1_score(y_test, grad2_y_pred, average='micro'))\n",
        "print('F1_score, average = macro:',f1_score(y_test, grad2_y_pred, average='macro'))\n",
        "print('F1_score, average = weighted:',f1_score(y_test, grad2_y_pred, average='weighted'))"
      ],
      "execution_count": 181,
      "outputs": [
        {
          "output_type": "stream",
          "text": [
            "R2 score : 0.68\n",
            "accuracy_score: 0.9883720930232558\n",
            "F1_score, average = micro: 0.9883720930232558\n",
            "F1_score, average = macro: 0.9155900086132644\n",
            "F1_score, average = weighted: 0.9879814914969053\n"
          ],
          "name": "stdout"
        }
      ]
    },
    {
      "cell_type": "markdown",
      "metadata": {
        "id": "DGq8L83rAM3Z",
        "colab_type": "text"
      },
      "source": [
        "# Support Vector Machine"
      ]
    },
    {
      "cell_type": "markdown",
      "metadata": {
        "id": "_wnhJc1dl_Nw",
        "colab_type": "text"
      },
      "source": [
        "A Support Vector Machine (SVM) is a discriminative classifier formally defined by a separating hyperplane.\n",
        "\n",
        "In other words, given labeled training data (supervised learning), the algorithm outputs an optimal hyperplane which categorizes new examples.\n",
        "\n",
        "--- Parameters to tune:\n",
        "\n",
        "      * Kernel\n",
        "      * C\n",
        "      * Gamma\n",
        "Creating SVC using different kernels"
      ]
    },
    {
      "cell_type": "markdown",
      "metadata": {
        "id": "xOl4lHFlASAv",
        "colab_type": "text"
      },
      "source": [
        "## Linear Kernel"
      ]
    },
    {
      "cell_type": "code",
      "metadata": {
        "id": "pAF31sStB1YV",
        "colab_type": "code",
        "outputId": "782820e8-0428-4f54-e7c9-28f380328c4c",
        "colab": {
          "base_uri": "https://localhost:8080/",
          "height": 34
        }
      },
      "source": [
        "# applying Principal Component Analysis to reduce the number of variables\n",
        "from sklearn.decomposition import PCA\n",
        "pca = PCA(n_components = 3).fit(X)\n",
        "X = pca.transform(X)\n",
        "X.shape"
      ],
      "execution_count": 182,
      "outputs": [
        {
          "output_type": "execute_result",
          "data": {
            "text/plain": [
              "(3010, 3)"
            ]
          },
          "metadata": {
            "tags": []
          },
          "execution_count": 182
        }
      ]
    },
    {
      "cell_type": "code",
      "metadata": {
        "id": "mQC3vpvIB8RO",
        "colab_type": "code",
        "colab": {}
      },
      "source": [
        "# splitting into training & testing data\n",
        "X_train, X_test, y_train, y_test = train_test_split(X, y, test_size = 0.2, random_state = 0)"
      ],
      "execution_count": 0,
      "outputs": []
    },
    {
      "cell_type": "code",
      "metadata": {
        "id": "TTml771KCEii",
        "colab_type": "code",
        "outputId": "5d8db67d-4fff-4fdf-ede2-5e4bf9356c59",
        "colab": {
          "base_uri": "https://localhost:8080/",
          "height": 87
        }
      },
      "source": [
        "# importing our SVM model and setting kernel to linear\n",
        "\n",
        "from sklearn.svm import SVC\n",
        "linear = SVC(kernel = 'linear')\n",
        "\n",
        "# fitting to training data\n",
        "linear.fit(X_train, y_train)\n",
        "\n",
        "# making predictions\n",
        "lin_y_pred = linear.predict(X_test)\n",
        "\n",
        "# assessing the model\n",
        "from sklearn.metrics import confusion_matrix, accuracy_score\n",
        "\n",
        "print(\"Linear kernel score:\", accuracy_score(y_test, lin_y_pred))\n",
        "print(\"Linear kernel confusion matrix:\\n\", confusion_matrix(y_test, lin_y_pred))"
      ],
      "execution_count": 184,
      "outputs": [
        {
          "output_type": "stream",
          "text": [
            "Linear kernel score: 0.9867109634551495\n",
            "Linear kernel confusion matrix:\n",
            " [[ 16   7]\n",
            " [  1 578]]\n"
          ],
          "name": "stdout"
        }
      ]
    },
    {
      "cell_type": "code",
      "metadata": {
        "id": "1YL2mrWp_xnq",
        "colab_type": "code",
        "colab": {}
      },
      "source": [
        "svc_model = SVC(kernel= 'linear',gamma='scale',C=1.0)"
      ],
      "execution_count": 0,
      "outputs": []
    },
    {
      "cell_type": "code",
      "metadata": {
        "id": "73PWMAcDA7g7",
        "colab_type": "code",
        "outputId": "f21e3e99-f2d5-4296-afca-6a981f347074",
        "colab": {
          "base_uri": "https://localhost:8080/",
          "height": 87
        }
      },
      "source": [
        "svc_model.fit(X_train, y_train)"
      ],
      "execution_count": 186,
      "outputs": [
        {
          "output_type": "execute_result",
          "data": {
            "text/plain": [
              "SVC(C=1.0, break_ties=False, cache_size=200, class_weight=None, coef0=0.0,\n",
              "    decision_function_shape='ovr', degree=3, gamma='scale', kernel='linear',\n",
              "    max_iter=-1, probability=False, random_state=None, shrinking=True,\n",
              "    tol=0.001, verbose=False)"
            ]
          },
          "metadata": {
            "tags": []
          },
          "execution_count": 186
        }
      ]
    },
    {
      "cell_type": "code",
      "metadata": {
        "id": "GguqAqgFA9Nt",
        "colab_type": "code",
        "colab": {}
      },
      "source": [
        "y_predict = svc_model.predict(X_test)"
      ],
      "execution_count": 0,
      "outputs": []
    },
    {
      "cell_type": "code",
      "metadata": {
        "id": "jWnI8TWzBBJv",
        "colab_type": "code",
        "outputId": "e956749a-b073-4ee1-9751-4d2539fa112d",
        "colab": {
          "base_uri": "https://localhost:8080/",
          "height": 176
        }
      },
      "source": [
        "print(classification_report(y_test,y_predict))"
      ],
      "execution_count": 188,
      "outputs": [
        {
          "output_type": "stream",
          "text": [
            "              precision    recall  f1-score   support\n",
            "\n",
            "           0       0.94      0.70      0.80        23\n",
            "           1       0.99      1.00      0.99       579\n",
            "\n",
            "    accuracy                           0.99       602\n",
            "   macro avg       0.96      0.85      0.90       602\n",
            "weighted avg       0.99      0.99      0.99       602\n",
            "\n"
          ],
          "name": "stdout"
        }
      ]
    },
    {
      "cell_type": "markdown",
      "metadata": {
        "id": "y-ZqYbviBXk6",
        "colab_type": "text"
      },
      "source": [
        "The average precision is 0.99"
      ]
    },
    {
      "cell_type": "markdown",
      "metadata": {
        "id": "nMslVqgMdL6c",
        "colab_type": "text"
      },
      "source": [
        "The SVC model using linear kernel yielded 98% accuracy."
      ]
    },
    {
      "cell_type": "markdown",
      "metadata": {
        "id": "P1Q8uNq4CrUx",
        "colab_type": "text"
      },
      "source": [
        "## Polynomial Kernel"
      ]
    },
    {
      "cell_type": "code",
      "metadata": {
        "id": "If9nKks3S6eu",
        "colab_type": "code",
        "colab": {}
      },
      "source": [
        "svc_model = SVC(kernel= 'poly',gamma='scale',C=1.0)"
      ],
      "execution_count": 0,
      "outputs": []
    },
    {
      "cell_type": "code",
      "metadata": {
        "id": "XUZqiy5XS7gy",
        "colab_type": "code",
        "colab": {
          "base_uri": "https://localhost:8080/",
          "height": 87
        },
        "outputId": "bbec7c11-dd7c-4647-fcbb-90f3f38df29b"
      },
      "source": [
        "svc_model.fit(X_train, y_train)"
      ],
      "execution_count": 190,
      "outputs": [
        {
          "output_type": "execute_result",
          "data": {
            "text/plain": [
              "SVC(C=1.0, break_ties=False, cache_size=200, class_weight=None, coef0=0.0,\n",
              "    decision_function_shape='ovr', degree=3, gamma='scale', kernel='poly',\n",
              "    max_iter=-1, probability=False, random_state=None, shrinking=True,\n",
              "    tol=0.001, verbose=False)"
            ]
          },
          "metadata": {
            "tags": []
          },
          "execution_count": 190
        }
      ]
    },
    {
      "cell_type": "code",
      "metadata": {
        "id": "GL-41xzQS7eV",
        "colab_type": "code",
        "colab": {}
      },
      "source": [
        "y_predict = svc_model.predict(X_test)"
      ],
      "execution_count": 0,
      "outputs": []
    },
    {
      "cell_type": "code",
      "metadata": {
        "id": "Oo3HPWaqS7ax",
        "colab_type": "code",
        "colab": {
          "base_uri": "https://localhost:8080/",
          "height": 176
        },
        "outputId": "9fe4520d-cc97-48a4-9f42-05063044b8e8"
      },
      "source": [
        "print(classification_report(y_test,y_predict))"
      ],
      "execution_count": 192,
      "outputs": [
        {
          "output_type": "stream",
          "text": [
            "              precision    recall  f1-score   support\n",
            "\n",
            "           0       0.94      0.65      0.77        23\n",
            "           1       0.99      1.00      0.99       579\n",
            "\n",
            "    accuracy                           0.99       602\n",
            "   macro avg       0.96      0.83      0.88       602\n",
            "weighted avg       0.98      0.99      0.98       602\n",
            "\n"
          ],
          "name": "stdout"
        }
      ]
    },
    {
      "cell_type": "code",
      "metadata": {
        "id": "BoNxzm9qEA2F",
        "colab_type": "code",
        "colab": {
          "base_uri": "https://localhost:8080/",
          "height": 87
        },
        "outputId": "d41155e9-c17d-4c08-96a3-22331440095b"
      },
      "source": [
        "# trying it out with a polynomial kernel\n",
        "poly = SVC(kernel = 'poly', gamma = 'auto')\n",
        "\n",
        "# training the model\n",
        "poly.fit(X_train, y_train)\n",
        "\n",
        "# making prediction\n",
        "poly_y_pred = poly.predict(X_test)\n",
        "\n",
        "# assessing the model\n",
        "print(\"Polynomial kernel score:\", accuracy_score(y_test, poly_y_pred))\n",
        "print(\"Polynomial kernel confusion matrix:\\n\", confusion_matrix(y_test, poly_y_pred))"
      ],
      "execution_count": 193,
      "outputs": [
        {
          "output_type": "stream",
          "text": [
            "Polynomial kernel score: 0.9933554817275747\n",
            "Polynomial kernel confusion matrix:\n",
            " [[ 21   2]\n",
            " [  2 577]]\n"
          ],
          "name": "stdout"
        }
      ]
    },
    {
      "cell_type": "markdown",
      "metadata": {
        "id": "WXeCf124h8gO",
        "colab_type": "text"
      },
      "source": [
        "Polynomial Kernel has an accuracy of 99%"
      ]
    },
    {
      "cell_type": "markdown",
      "metadata": {
        "id": "sVIr5bcEDJ9M",
        "colab_type": "text"
      },
      "source": [
        "## Radial Basis Function (RBF) Kernel"
      ]
    },
    {
      "cell_type": "code",
      "metadata": {
        "id": "xtPLwZADSkt9",
        "colab_type": "code",
        "colab": {}
      },
      "source": [
        "svc_model = SVC(kernel= 'rbf',gamma='scale',C=1.0)"
      ],
      "execution_count": 0,
      "outputs": []
    },
    {
      "cell_type": "code",
      "metadata": {
        "id": "_Fu3_fFoSoYK",
        "colab_type": "code",
        "colab": {
          "base_uri": "https://localhost:8080/",
          "height": 87
        },
        "outputId": "e0bf4024-361d-4bf4-bfee-077ad9689e40"
      },
      "source": [
        "svc_model.fit(X_train, y_train)"
      ],
      "execution_count": 195,
      "outputs": [
        {
          "output_type": "execute_result",
          "data": {
            "text/plain": [
              "SVC(C=1.0, break_ties=False, cache_size=200, class_weight=None, coef0=0.0,\n",
              "    decision_function_shape='ovr', degree=3, gamma='scale', kernel='rbf',\n",
              "    max_iter=-1, probability=False, random_state=None, shrinking=True,\n",
              "    tol=0.001, verbose=False)"
            ]
          },
          "metadata": {
            "tags": []
          },
          "execution_count": 195
        }
      ]
    },
    {
      "cell_type": "code",
      "metadata": {
        "id": "K8R3sBw0SoUN",
        "colab_type": "code",
        "colab": {}
      },
      "source": [
        "y_predict = svc_model.predict(X_test)"
      ],
      "execution_count": 0,
      "outputs": []
    },
    {
      "cell_type": "code",
      "metadata": {
        "id": "pxZMdsyySzcn",
        "colab_type": "code",
        "colab": {
          "base_uri": "https://localhost:8080/",
          "height": 176
        },
        "outputId": "a48f7017-047e-49b7-cf4c-0e8e6a421b4c"
      },
      "source": [
        "print(classification_report(y_test,y_predict))"
      ],
      "execution_count": 197,
      "outputs": [
        {
          "output_type": "stream",
          "text": [
            "              precision    recall  f1-score   support\n",
            "\n",
            "           0       0.95      0.83      0.88        23\n",
            "           1       0.99      1.00      1.00       579\n",
            "\n",
            "    accuracy                           0.99       602\n",
            "   macro avg       0.97      0.91      0.94       602\n",
            "weighted avg       0.99      0.99      0.99       602\n",
            "\n"
          ],
          "name": "stdout"
        }
      ]
    },
    {
      "cell_type": "code",
      "metadata": {
        "id": "dj5VNM45DJJ9",
        "colab_type": "code",
        "colab": {
          "base_uri": "https://localhost:8080/",
          "height": 87
        },
        "outputId": "9b309853-6b15-4fd2-8ce6-991d0f4faa5f"
      },
      "source": [
        "# now doing it with rbf kernel\n",
        "rbf = SVC(kernel = 'rbf', gamma = 'auto')\n",
        "\n",
        "# training the model\n",
        "rbf.fit(X_train, y_train)\n",
        "\n",
        "# making prediction\n",
        "rbf_y_pred = rbf.predict(X_test)\n",
        "\n",
        "# assessing the model\n",
        "print(\"RBF kernel score:\", accuracy_score(y_test, rbf_y_pred))\n",
        "print(\"RBF kernel confusion matrix:\\n\", confusion_matrix(y_test, rbf_y_pred))"
      ],
      "execution_count": 198,
      "outputs": [
        {
          "output_type": "stream",
          "text": [
            "RBF kernel score: 0.9601328903654485\n",
            "RBF kernel confusion matrix:\n",
            " [[  0  23]\n",
            " [  1 578]]\n"
          ],
          "name": "stdout"
        }
      ]
    },
    {
      "cell_type": "markdown",
      "metadata": {
        "id": "vbSuARQLiDLJ",
        "colab_type": "text"
      },
      "source": [
        "RBF Kernel has an accuracy of 96% which seems to be the lowest accuracy among the three SVM kernels."
      ]
    },
    {
      "cell_type": "markdown",
      "metadata": {
        "id": "1fOqpKKkDE9x",
        "colab_type": "text"
      },
      "source": [
        "As we can see, the polynomial kernel is the best performing while the rbf kernel, although still quite good, is the worst performing of the 3 SVM kernels used."
      ]
    },
    {
      "cell_type": "markdown",
      "metadata": {
        "id": "OFds4ufHdv8p",
        "colab_type": "text"
      },
      "source": [
        "## SVM Tuning"
      ]
    },
    {
      "cell_type": "code",
      "metadata": {
        "id": "_UQSv8r4d2YP",
        "colab_type": "code",
        "colab": {
          "base_uri": "https://localhost:8080/",
          "height": 34
        },
        "outputId": "be70d72d-56c9-4c4e-e578-af753a1d01f5"
      },
      "source": [
        "# We already know that the linear polynomial perform best for this partical classification problem.\n",
        "\n",
        "# Here we will use Randomized search to find the best parameters for the model\n",
        "\n",
        "# Creating a dictionary\n",
        "# Specifying the parameters we want to tune\n",
        "\n",
        "params = {'C': [0.001, 0.01, 0.1, 1, 10],\n",
        "          'gamma': [0.001, 0.01, 0.1, 1]}\n",
        "\n",
        "svc = SVC()\n",
        "\n",
        "search = RandomizedSearchCV(estimator = svc, \n",
        "                      param_distributions = params, \n",
        "                      scoring = 'accuracy',\n",
        "                      n_jobs = 1, \n",
        "                      cv = 10 )\n",
        "                \n",
        "                \n",
        "search.fit(X,y)\n",
        "search.best_params_"
      ],
      "execution_count": 199,
      "outputs": [
        {
          "output_type": "execute_result",
          "data": {
            "text/plain": [
              "{'C': 0.1, 'gamma': 0.001}"
            ]
          },
          "metadata": {
            "tags": []
          },
          "execution_count": 199
        }
      ]
    },
    {
      "cell_type": "markdown",
      "metadata": {
        "id": "dkx5gzcuixqu",
        "colab_type": "text"
      },
      "source": [
        "\n",
        "The output shows the best parameters which are C: 0.1 and Gamma : 0.001.\n",
        "\n",
        "We wil fit them in the model using linear kernel and observe changes.\n",
        "\n"
      ]
    },
    {
      "cell_type": "code",
      "metadata": {
        "colab_type": "code",
        "id": "T40FOg-ajJf2",
        "colab": {
          "base_uri": "https://localhost:8080/",
          "height": 34
        },
        "outputId": "c94f2c65-8e8a-4466-bf4b-01b38086d48a"
      },
      "source": [
        "svc = SVC(kernel = 'poly', C = 0.1, gamma = 0.001)\n",
        "\n",
        "svc = svc.fit(X_train, y_train)\n",
        "\n",
        "# Fitting the model, making predictions and evaluating the model\n",
        "y_pred = svc.predict(X_test)\n",
        "\n",
        "accuracy_score(y_test, y_pred)"
      ],
      "execution_count": 200,
      "outputs": [
        {
          "output_type": "execute_result",
          "data": {
            "text/plain": [
              "0.9867109634551495"
            ]
          },
          "metadata": {
            "tags": []
          },
          "execution_count": 200
        }
      ]
    },
    {
      "cell_type": "markdown",
      "metadata": {
        "id": "NfqR4uaGfhSX",
        "colab_type": "text"
      },
      "source": [
        "# Challenging the Solution"
      ]
    },
    {
      "cell_type": "markdown",
      "metadata": {
        "id": "xOoctH8MfqPV",
        "colab_type": "text"
      },
      "source": [
        "## Fitting SVC model with Sigmoid Function"
      ]
    },
    {
      "cell_type": "code",
      "metadata": {
        "id": "JWNvUnhyflGG",
        "colab_type": "code",
        "colab": {
          "base_uri": "https://localhost:8080/",
          "height": 34
        },
        "outputId": "23a6d4ee-6255-4f40-b801-70c5383871f2"
      },
      "source": [
        "# Fitting the model, making predictions and evaluating the model\n",
        "\n",
        "svc = SVC(kernel = 'sigmoid', C = 0.1, gamma = 0.001)\n",
        "\n",
        "svc = svc.fit(X_train, y_train)\n",
        "\n",
        "\n",
        "y_pred = svc.predict(X_test)\n",
        "\n",
        "accuracy_score(y_test, y_pred)"
      ],
      "execution_count": 201,
      "outputs": [
        {
          "output_type": "execute_result",
          "data": {
            "text/plain": [
              "0.9368770764119602"
            ]
          },
          "metadata": {
            "tags": []
          },
          "execution_count": 201
        }
      ]
    },
    {
      "cell_type": "markdown",
      "metadata": {
        "id": "ZVThVGqSf8L5",
        "colab_type": "text"
      },
      "source": [
        "Using Sigmoid the model yielded 93.6% accuracy.\n",
        "\n",
        "This is a little bit lower compared to the linear kernel using the same two features."
      ]
    },
    {
      "cell_type": "markdown",
      "metadata": {
        "id": "ijr4jXFmgAlM",
        "colab_type": "text"
      },
      "source": [
        "## Fitting XGBoost model"
      ]
    },
    {
      "cell_type": "code",
      "metadata": {
        "id": "qcU99Id5gIox",
        "colab_type": "code",
        "colab": {
          "base_uri": "https://localhost:8080/",
          "height": 34
        },
        "outputId": "95cf48be-2212-447f-f2ca-4aecd1fe0015"
      },
      "source": [
        "import xgboost as xgb\n",
        "xg = xgb.XGBClassifier() \n",
        "\n",
        "xg.fit(X_train, y_train)\n",
        "\n",
        "# Fitting the model, making predictions and evaluating the model\n",
        "\n",
        "y_pred = svc.predict(X_test)\n",
        "\n",
        "accuracy_score(y_test, y_pred)"
      ],
      "execution_count": 202,
      "outputs": [
        {
          "output_type": "execute_result",
          "data": {
            "text/plain": [
              "0.9368770764119602"
            ]
          },
          "metadata": {
            "tags": []
          },
          "execution_count": 202
        }
      ]
    },
    {
      "cell_type": "markdown",
      "metadata": {
        "id": "8ZccaKXcgR7D",
        "colab_type": "text"
      },
      "source": [
        "The XG Boost model yielded 93.6% accuracy just like the sigmoid kernel in SVC model.\n",
        "\n",
        "This is lower compared to the linear kernel using the same two features."
      ]
    },
    {
      "cell_type": "markdown",
      "metadata": {
        "id": "yqMwPRrFgTmc",
        "colab_type": "text"
      },
      "source": [
        "# Conclusion"
      ]
    },
    {
      "cell_type": "markdown",
      "metadata": {
        "id": "5LrimnR8gZyM",
        "colab_type": "text"
      },
      "source": [
        "Overall the best model was Support Vector Classifier using the polynomial kernel at 99% accuracy.\n",
        "\n",
        "For the Ensemble methods: Gradient Boosting and Ada Boost Classifier models performed best with 99.1% accuracy.\n",
        "\n",
        "There were several instances of overfitting.\n",
        "\n",
        "This may have been caused by inadequate data to train the models.\n",
        "\n",
        "Several regularization techniques were applied for example the C parameter in the Support Vector Classifier."
      ]
    }
  ]
}